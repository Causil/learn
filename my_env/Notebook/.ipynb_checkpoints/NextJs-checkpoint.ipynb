{
 "cells": [
  {
   "cell_type": "markdown",
   "id": "3d1297f6",
   "metadata": {},
   "source": [
    "NEXT \n",
    "\n",
    "Para crear una página con Next, iniciamos con un proyecto con \n",
    "\n",
    "    npm init -y, \n",
    "    npm install next react react-dom\n",
    "    mkdir pages\n",
    "\n",
    "Creando rutas: rutas estaticas y dinamicas \n",
    "     \n",
    "    mkdir pages/product/[id].js\n",
    "    \n",
    "    import { useRouter } from 'next/router';\n",
    "    const ProductItem = () => {\n",
    "    const router = useRouter();\n",
    "    return(\n",
    "        <div>\n",
    "            <h1> Esta es la página del product: {router.query.id} </h1>\n",
    "        </div>\n",
    "    )\n",
    "    }\n",
    "    export default ProductItem;\n",
    "    \n",
    "    "
   ]
  }
 ],
 "metadata": {
  "kernelspec": {
   "display_name": "venv",
   "language": "python",
   "name": "venv"
  },
  "language_info": {
   "codemirror_mode": {
    "name": "ipython",
    "version": 3
   },
   "file_extension": ".py",
   "mimetype": "text/x-python",
   "name": "python",
   "nbconvert_exporter": "python",
   "pygments_lexer": "ipython3",
   "version": "3.10.4"
  }
 },
 "nbformat": 4,
 "nbformat_minor": 5
}
