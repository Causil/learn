{
 "cells": [
  {
   "cell_type": "markdown",
   "id": "47c5ee54",
   "metadata": {},
   "source": [
    "<h1>Proyecto para aprender inglés</h1>\n",
    "\n",
    "<div>\n",
    "  <p>\n",
    "    Me basaré en el marco común Europeo de la siguiente manera, trabajaré en cada nivel \n",
    "    A usuario básico: \n",
    "      \n",
    "    A1: \n",
    "    \n",
    "    Es capaz de comprender y utilizar expresiones cotidianas de uso muy frecuente así como frases sencillas destinadas a satisfacer necesidades de tipo inmediato. Puede presentarse a sí mismo y a otros, pedir y dar información personal básica sobre su domicilio, sus pertenencias y las personas que conoce. Puede relacionarse de forma elemental siempre que su interlocutor hable despacio y con claridad y esté dispuesto a cooperar.\n",
    "      \n",
    "    A2: \n",
    "      \n",
    "    Es capaz de comprender frases y expresiones de uso frecuente relacionadas con áreas de experiencia que le son especialmente relevantes (información básica sobre sí mismo y su familia, compras, lugares de interés, ocupaciones, etc). Sabe comunicarse a la hora de llevar a cabo tareas simples y cotidianas que no requieran más que intercambios sencillos y directos de información sobre cuestiones que le son conocidas o habituales. Sabe describir en términos sencillos aspectos de su pasado y su entorno así como cuestiones relacionadas con sus necesidades inmediatas. \n",
    " </p>\n",
    "    \n",
    " A1: Es capaz de comprender y utilizar expresiones cotidianas de uso muy frecuente así como frases sencillas destinadas a satisfacer necesidades de tipo inmediato.\n",
    "    \n",
    "La pregunta del millón: Qué son expresiones cotidianas que satisfacen necesidades de tipo inmediato. \n",
    "    \n",
    "Puede presentarse a sí mismo y a otros. \n",
    "    \n",
    "pedir y dar información personal básica sobre su domicilio, sus pertenencias y las personas que conoce.\n",
    "    \n",
    "Puede relacionarse de forma elemental siempre que su interlocutor hable despacio y con claridad y esté dispuesto a cooperar.\n",
    "</div>\n",
    "\n",
    "\n",
    "Primera tarea buscar expresiones cotidianas: \n",
    "\n",
    "\n",
    "https://idiomas.gcfglobal.org/es/curso/ingles/a1/\n",
    "\n",
    "Abecedario en inglés\n",
    "\n",
    "El alfabeto en inglés es muy similar al usado en español en su forma escrita, pero la pronunciación de cada una de sus letras cambia.\n",
    "\n",
    "Ya sabes cómo suenan las letras en inglés. Ahora, ¿qué te parece conocer algunos datos curiosos?\n",
    "\n",
    "<ul>\n",
    "<li>\n",
    "La Ch no se considera una letra del abecedario en inglés. Sin embargo, es común ver palabras con esta combinación de letras, muchas de ellas con el mismo sonido que se presenta en el español, por ejemplo: Chat, church, chest, entre otros.     \n",
    "</li>\n",
    "\n",
    "<li>\n",
    "    La letra Ñ no existe en este idioma\n",
    "</li>\n",
    "<li>\n",
    "En ciertos acentos del inglés sucede que, cuando la letra R se ubica al final de una palabra, no se pronuncia. Por ejemplo, la R en la palabra \"war\", cambiaría su sonido por la vocal a. Así:\n",
    "</li>\n",
    "</ul>"
   ]
  },
  {
   "cell_type": "code",
   "execution_count": null,
   "id": "5abf1aa7",
   "metadata": {},
   "outputs": [],
   "source": []
  }
 ],
 "metadata": {
  "kernelspec": {
   "display_name": "venv",
   "language": "python",
   "name": "venv"
  },
  "language_info": {
   "codemirror_mode": {
    "name": "ipython",
    "version": 3
   },
   "file_extension": ".py",
   "mimetype": "text/x-python",
   "name": "python",
   "nbconvert_exporter": "python",
   "pygments_lexer": "ipython3",
   "version": "3.10.4"
  }
 },
 "nbformat": 4,
 "nbformat_minor": 5
}
