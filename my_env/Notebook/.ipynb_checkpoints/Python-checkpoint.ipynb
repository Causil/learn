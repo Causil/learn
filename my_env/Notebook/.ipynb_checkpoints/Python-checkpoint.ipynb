{
 "cells": [
  {
   "cell_type": "markdown",
   "id": "31a18b4d",
   "metadata": {},
   "source": [
    "<h1>\n",
    "    Programación orientada a objetos\n",
    "</h1>\n",
    "<p> Este módulo es una copia del curso de Cisco sobre python </p>"
   ]
  },
  {
   "cell_type": "markdown",
   "id": "78b860ce",
   "metadata": {},
   "source": [
    "<div>\n",
    "<h3>\n",
    "Los conceptos básicos del enfoque orientado a objetos\n",
    "</h3>\n",
    "<p>\n",
    "     Demos un paso fuera de la programación y las computadoras, y analicemos temas de programación orientada a objetos.\n",
    "\n",
    "Casi todos los programas y técnicas que has utilizado hasta ahora pertenecen al estilo de programación procedimental. Es cierto que has utilizado algunos objetos incorporados, pero cuando nos referimos a ellos, se mencionan lo mínimo posible.\n",
    "\n",
    "La programación procedimental fue el enfoque dominante para el desarrollo de software durante décadas de TI, y todavía se usa en la actualidad. Además, no va a desaparecer en el futuro, ya que funciona muy bien para proyectos específicos (en general, no muy complejos y no grandes, pero existen muchas excepciones a esa regla).\n",
    "\n",
    "El enfoque orientado a objetos es bastante joven (mucho más joven que el enfoque procedimental) y es particularmente útil cuando se aplica a proyectos grandes y complejos llevados a cabo por grandes equipos formados por muchos desarrolladores.\n",
    "\n",
    "Este tipo de programación en un proyecto facilita muchas tareas importantes, por ejemplo, dividir el proyecto en partes pequeñas e independientes y el desarrollo independiente de diferentes elementos del proyecto.\n",
    "    \n",
    "Python es una herramienta universal para la programación procedimental y orientada a objetos. Se puede utilizar con éxito en ambas.\n",
    "    \n",
    "Además, puedes crear muchas aplicaciones útiles, incluso si no se sabe nada sobre clases y objetos, pero debes tener en cuenta que algunos de los problemas (por ejemplo, el manejo de la interfaz gráfica de usuario) puede requerir un enfoque estricto de objetos.\n",
    "    \n",
    "Afortunadamente, la programación orientada a objetos es relativamente simple.\n",
    "</p>\n",
    "</div>"
   ]
  },
  {
   "cell_type": "markdown",
   "id": "47a8957d",
   "metadata": {},
   "source": [
    "<div>\n",
    "<h3>\n",
    "    Enfoque procedimental versus el enfoque orientado a objetos\n",
    "</h3>\n",
    "<p>\n",
    "    En el enfoque procedimental, es posible distinguir dos mundos diferentes y completamente separados: el mundo de los datos y el mundo del código. El mundo de los datos está poblado con variables de diferentes tipos, mientras que el mundo del código está habitado por códigos agrupados en módulos y funciones.\n",
    "\n",
    "Las funciones pueden usar datos, pero no al revés. Además, las funciones pueden abusar de los datos, es decir, usar el valor de manera no autorizada (por ejemplo, cuando la función seno recibe el saldo de una cuenta bancaria como parámetro).\n",
    "\n",
    "Los datos no pueden usar funciones. ¿Pero es esto completamente cierto? ¿Hay algunos tipos especiales de datos que pueden usar funciones?\n",
    "\n",
    "Sí, los hay, los llamados métodos. Estas son funciones que se invocan desde dentro de los datos, no junto con ellos. Si puedes ver esta distinción, has dado el primer paso en la programación de objetos.\n",
    "\n",
    "El enfoque orientado a objetos sugiere una forma de pensar completamente diferente. Los datos y el código están encapsulados juntos en el mismo mundo, divididos en clases.\n",
    "\n",
    "Cada clase es como una receta que se puede usar cuando quieres crear un objeto útil. Puedes producir tantos objetos como necesites para resolver tu problema.\n",
    "\n",
    "Cada objeto tiene un conjunto de rasgos (se denominan propiedades o atributos; usaremos ambas palabras como sinónimos) y es capaz de realizar un conjunto de actividades (que se denominan métodos).\n",
    "\n",
    "Las recetas pueden modificarse si son inadecuadas para fines específicos y, en efecto, pueden crearse nuevas clases. Estas nuevas clases heredan propiedades y métodos de los originales, y generalmente agregan algunos nuevos, creando nuevas herramientas más específicas.\n",
    "    \n",
    "Los objetos son encarnaciones de las ideas expresadas en clases, como un pastel de queso en tu plato, es una encarnación de la idea expresada en una receta impresa en un viejo libro de cocina.\n",
    "\n",
    "Los objetos interactúan entre sí, intercambian datos o activan sus métodos. Una clase construida adecuadamente (y, por lo tanto, sus objetos) puede proteger los datos sensibles y ocultarlos de modificaciones no autorizadas.\n",
    "\n",
    "No existe un límite claro entre los datos y el código: viven como uno solo dentro de los objetos.\n",
    "\n",
    "Todos estos conceptos no son tan abstractos como pudieras pensar al principio. Por el contrario, todos están tomados de experiencias de la vida real y, por lo tanto, son extremadamente útiles en la programación de computadoras: no crean vida artificial reflejan hechos reales, relaciones y circunstancias.\n",
    "  \n",
    "</p>\n",
    "    \n",
    "<h3> Jerarquías de clase </h3>\n",
    "<p>\n",
    "   La palabra clases tiene muchos significados, pero no todos son compatibles con las ideas que queremos discutir aquí. La clase que nos concierne es como una categoría, como resultado de similitudes definidas con precisión.\n",
    "\n",
    "Intentaremos señalar algunas clases que son buenos ejemplos de este concepto. \n",
    "    \n",
    "Viene una imagen de ejemplo\n",
    "\n",
    "    \n",
    "Veamos por un momento los vehículos. Todos los vehículos existentes (y los que aún no existen) estan relacionados por una sola característica importante: la capacidad de moverse. Puedes argumentar que un perro también se mueve; ¿Es un perro un vehículo? No lo es. Tenemos que mejorar la definición, es decir, enriquecerla con otros criterios, distinguir los vehículos de otros seres y crear una conexión más fuerte. Consideremos las siguientes circunstancias: los vehículos son entidades creadas artificialmente que se utilizan para el transporte, movidos por fuerzas de la naturaleza y dirigidos (conducidos) por humanos.\n",
    "\n",
    "Según esta definición, un perro no es un vehículo.\n",
    "\n",
    "La clase vehículos es muy amplia. Tenemos que definir clases especializadas. Las clases especializadas son las subclases. La clase vehículos será una superclase para todas ellas.\n",
    "\n",
    "Nota: la jerarquía crece de arriba hacia abajo, como raíces de árboles, no ramas. La clase más general y más amplia siempre está en la parte superior (la superclase) mientras que sus descendientes se encuentran abajo (las subclases).\n",
    "\n",
    "A estas alturas, probablemente puedas señalar algunas subclases potenciales para la superclase Vehículos. Hay muchas clasificaciones posibles. Elegimos subclases basadas en el medio ambiente y decimos que hay (al menos) cuatro subclases:\n",
    "\n",
    "    Vehículos Terrestres.\n",
    "    Vehículos Acuáticos.\n",
    "    Vehículos Aéreos.\n",
    "    Vehículos Espaciales.\n",
    "\n",
    "En este ejemplo, discutiremos solo la primera subclase: vehículos terrestres. Si lo deseas, puedes continuar con las clases restantes.\n",
    "\n",
    "Los vehículos terrestres pueden dividirse aún más, según el método con el que impactan el suelo. Entonces, podemos enumerar:\n",
    "\n",
    "    Vehículos de ruedas.\n",
    "    Vehículos oruga.\n",
    "    Aerodeslizadores.\n",
    "\n",
    "La figura ilustra la jerarquía que hemos creado.\n",
    "\n",
    "Ten en cuenta la dirección de las flechas: siempre apuntan a la superclase. La clase de nivel superior es una excepción: no tiene su propia superclase.\n",
    "</p>    \n",
    "</div>"
   ]
  },
  {
   "cell_type": "markdown",
   "id": "4159c9db",
   "metadata": {},
   "source": [
    "<div>\n",
    "<h3>¿Qué es un objeto?</h3>\n",
    "\n",
    "Una clase (entre otras definiciones) es un conjunto de objetos. Un objeto es un ser perteneciente a una clase.\n",
    "\n",
    "Un objeto es una encarnación de los requisitos, rasgos y cualidades asignados a una clase específica. Esto puede sonar simple, pero ten en cuenta las siguientes circunstancias importantes. Las clases forman una jerarquía. Esto puede significar que un objeto que pertenece a una clase específica pertenece a todas las superclases al mismo tiempo. También puede significar que cualquier objeto perteneciente a una superclase puede no pertenecer a ninguna de sus subclases.\n",
    "\n",
    "Por ejemplo: cualquier automóvil personal es un objeto que pertenece a la clase vehículos terrestres. También significa que el mismo automóvil pertenece a todas las superclases de su clase local; por lo tanto, también es miembro de la clase vehículos. Tu perro (o tu gato) es un objeto incluido en la clase Mamíferos domesticados, lo que significa explícitamente que también está incluido en la clase animales.\n",
    "\n",
    "Cada subclase es más especializada (o más específica) que su superclase. Por el contrario, cada superclase es más general (más abstracta) que cualquiera de sus subclases. Ten en cuenta que hemos supuesto que una clase solo puede tener una superclase; esto no siempre es cierto, pero discutiremos este tema más adelante.\n",
    "    \n",
    "<h3>Herencia</h3>\n",
    "<p>\n",
    "Definamos uno de los conceptos fundamentales de la programación de objetos, llamado herencia. Cualquier objeto vinculado a un nivel específico de una jerarquía de clases hereda todos los rasgos (así como los requisitos y cualidades) definidos dentro de cualquiera de las superclases.\n",
    "\n",
    "La clase de inicio del objeto puede definir nuevos rasgos (así como requisitos y cualidades) que serán heredados por cualquiera de sus superclases.\n",
    "\n",
    "No deberías tener ningún problema para hacer coincidir esta regla con ejemplos específicos, ya sea que se aplique a animales o vehículos.\n",
    "</p>\n",
    " <h3>Qué contiene un objeto </h3>\n",
    "<p>\n",
    "programación orientada a objetos supone que cada objeto existente puede estar equipado con tres grupos de atributos:\n",
    "\n",
    "    Un objeto tiene un nombre que lo identifica de forma exclusiva dentro de su namespace (aunque también puede haber algunos objetos anónimos).\n",
    "    Un objeto tiene un conjunto de propiedades individuales que lo hacen original, único o sobresaliente (aunque es posible que algunos objetos no tengan propiedades).\n",
    "    Un objeto tiene un conjunto de habilidades para realizar actividades específicas, capaz de cambiar el objeto en sí, o algunos de los otros objetos.\n",
    "\n",
    "Hay una pista (aunque esto no siempre funciona) que te puede ayudar a identificar cualquiera de las tres esferas anteriores. Cada vez que se describe un objeto y se usa:\n",
    "\n",
    "    Un sustantivo: probablemente se este definiendo el nombre del objeto.\n",
    "    Un adjetivo: probablemente se este definiendo una propiedad del objeto.\n",
    "    Un verbo: probablemente se este definiendo una actividad del objeto.\n",
    "    \n",
    "Dos ejemplos deberían servir como un buen ejemplo:\n",
    "\n",
    "    Max es un gato grande que duerme todo el día.\n",
    "\n",
    "    Nombre del objeto = Max\n",
    "    Clase de inicio = Gato\n",
    "    Propiedad = Tamaño (grande)\n",
    "    Actividad = Dormir (todo el día)\n",
    "\n",
    "    Un Cadillac rosa pasó rápidamente.\n",
    "\n",
    "    Nombre del objeto = Cadillac\n",
    "    Clase de inicio = Vehículo terrestre\n",
    "    Propiedad = Color (rosa)\n",
    "    Actividad = Pasar (rápidamente)\n",
    " </p>\n",
    "<h3> Tu primera clase</h3>\n",
    "<p>\n",
    "La programación orientada a objetos es el arte de definir y expandir clases. Una clase es un modelo de una parte muy específica de la realidad, que refleja las propiedades y actividades que se encuentran en el mundo real.\n",
    "\n",
    "Las clases definidas al principio son demasiado generales e imprecisas para cubrir el mayor número posible de casos reales.\n",
    "\n",
    "No hay obstáculo para definir nuevas subclases más precisas. Heredarán todo de su superclase, por lo que el trabajo que se utilizó para su creación no se desperdicia.\n",
    "\n",
    "La nueva clase puede agregar nuevas propiedades y nuevas actividades y, por lo tanto, puede ser más útil en aplicaciones específicas. Obviamente, se puede usar como una superclase para cualquier número de subclases recién creadas.\n",
    "\n",
    "El proceso no necesita tener un final. Puedes crear tantas clases como necesites.\n",
    "\n",
    "La clase que se define no tiene nada que ver con el objeto: la existencia de una clase no significa que ninguno de los objetos compatibles se creará automáticamente. La clase en sí misma no puede crear un objeto: debes crearlo tu mismo y Python te permite hacerlo.\n",
    "\n",
    "Es hora de definir la clase más simple y crear un objeto. Echa un vistazo al siguiente ejemplo:\n",
    "    \n",
    "\n",
    " </p>\n",
    "</div>"
   ]
  },
  {
   "cell_type": "code",
   "execution_count": 4,
   "id": "8a6aa299",
   "metadata": {},
   "outputs": [],
   "source": [
    "class ClaseSimple:\n",
    "    pass"
   ]
  },
  {
   "cell_type": "markdown",
   "id": "2604bcd5",
   "metadata": {},
   "source": [
    "Hemos definido una clase. La clase es bastante pobre: no contiene propiedades ni actividades. Esta vacía, pero eso no importa por ahora. Cuanto más simple sea la clase, mejor para nuestros propósitos.\n",
    "\n",
    "La definición comienza con la palabra clave reservada class. La palabra clave reservada es seguida por un identificador que nombrará la clase (nota: no lo confundas con el nombre del objeto: estas son dos cosas diferentes).\n",
    "\n",
    "A continuación, se agregan dos puntos:), como clases, como funciones, forman su propio bloque anidado. El contenido dentro del bloque define todas las propiedades y actividades de la clase.\n",
    "\n",
    "La palabra clave reservada pass llena la clase con nada. No contiene ningún método ni propiedades."
   ]
  },
  {
   "cell_type": "markdown",
   "id": "c7e954eb",
   "metadata": {},
   "source": [
    "<div>\n",
    "<h3>Tu primer objeto</h3>\n",
    "<p>\n",
    "La clase recién definida se convierte en una herramienta que puede crear nuevos objetos. La herramienta debe usarse explícitamente, bajo demanda.\n",
    "\n",
    "Imagina que deseas crear un objeto (exactamente uno) de la clase ClaseSimple.\n",
    "\n",
    "Para hacer esto, debes asignar una variable para almacenar el objeto recién creado de esa clase y crear un objeto al mismo tiempo.\n",
    "\n",
    "Se hace de la siguiente manera:\n",
    "</p>\n",
    "</div>"
   ]
  },
  {
   "cell_type": "code",
   "execution_count": 3,
   "id": "a2985b92",
   "metadata": {},
   "outputs": [],
   "source": [
    "miPrimerObjeto = ClaseSimple()"
   ]
  },
  {
   "cell_type": "markdown",
   "id": "6c228330",
   "metadata": {},
   "source": [
    "Nota:\n",
    "\n",
    "    El nombre de la clase intenta fingir que es una función, ¿puedes ver esto? Lo discutiremos pronto.\n",
    "    El objeto recién creado está equipado con todo lo que trae la clase; Como esta clase está completamente vacía, el objeto también está vacío.\n",
    "\n",
    "    El acto de crear un objeto de la clase seleccionada también se llama instanciación (ya que el objeto se convierte en una instancia de la clase).\n",
    "\n",
    "    Dejemos las clases en paz por un breve momento, ya que ahora diremos algunas palabras sobre pilas. Sabemos que el concepto de clases y objetos puede no estar completamente claro todavía. No te preocupes, te explicaremos todo muy pronto."
   ]
  },
  {
   "cell_type": "markdown",
   "id": "21bfd80e",
   "metadata": {},
   "source": [
    "<div>\n",
    "<h3>¿Qué es una pila?</h3>\n",
    "    \n",
    "<p>\n",
    "Una pila es una estructura desarrollada para almacenar datos de una manera muy específica.. Imagina una pila de monedas. No puedes poner una moneda en ningún otro lugar sino en la parte superior de la pila. Del mismo modo, no puedes sacar una moneda de la pila desde ningún lugar que no sea la parte superior de la pila. Si deseas obtener la moneda que se encuentra en la parte inferior, debes eliminar todas las monedas de los niveles superiores.\n",
    "\n",
    "El nombre alternativo para una pila (pero solo en la terminología de TI) es UEPS (LIFO son sus siglas en íngles). Es una abreviatura para una descripción muy clara del comportamiento de la pila: Último en Entrar - Primero en Salir (Last In - First Out). La moneda que quedó en último lugar en la pila saldrá primero.\n",
    "\n",
    "Una pila es un objeto con dos operaciones elementales, denominadas convencionalmente push (cuando un nuevo elemento se coloca en la parte superior) y pop (cuando un elemento existente se retira de la parte superior).\n",
    "\n",
    "Las pilas se usan muy a menudo en muchos algoritmos clásicos, y es difícil imaginar la implementación de muchas herramientas ampliamente utilizadas sin el uso de pilas.\n",
    "    \n",
    "Aquí va un imagen de la pila\n",
    "    \n",
    "Implementemos una pila en Python. Esta será una pila muy simple, y te mostraremos cómo hacerlo en dos enfoques independientes: de manera procedimental y orientado a objetos.\n",
    "\n",
    "Comencemos con el primero.\n",
    "</p>\n",
    "</div>"
   ]
  },
  {
   "cell_type": "markdown",
   "id": "500533ac",
   "metadata": {},
   "source": [
    "<p>\n",
    "La pila: el enfoque procedimental\n",
    "\n",
    "Primero, debes decidir cómo almacenar los valores que llegarán a la pila. Sugerimos utilizar el método más simple, y emplear una lista para esta tarea. Supongamos que el tamaño de la pila no está limitado de ninguna manera. Supongamos también que el último elemento de la lista almacena el elemento superior.\n",
    "\n",
    "La pila en sí ya está creada:\n",
    "</p>"
   ]
  },
  {
   "cell_type": "code",
   "execution_count": 2,
   "id": "3bdd4ab7",
   "metadata": {},
   "outputs": [],
   "source": [
    "pila = []"
   ]
  },
  {
   "cell_type": "markdown",
   "id": "8266a961",
   "metadata": {},
   "source": [
    "Estamos listos para definir una función que pone un valor en la pila. Aquí están las presuposiciones para ello:\n",
    "\n",
    "    El nombre para la función es push.\n",
    "    La función obtiene un parámetro (este es el valor que se debe colocar en la pila).\n",
    "    La función no devuelve nada.\n",
    "    La función agrega el valor del parámetro al final de la pila.\n",
    "\n",
    "Así es como lo hemos hecho, echa un vistazo:"
   ]
  },
  {
   "cell_type": "code",
   "execution_count": 4,
   "id": "79116585",
   "metadata": {},
   "outputs": [],
   "source": [
    "def push(val):\n",
    "    pila.append(val)"
   ]
  },
  {
   "cell_type": "markdown",
   "id": "2dbe55f9",
   "metadata": {},
   "source": [
    "Ahora es tiempo de que una función quite un valor de la pila. Así es como puedes hacerlo:\n",
    "\n",
    "    El nombre de la función es pop.\n",
    "    La función no obtiene ningún parámetro.\n",
    "    La función devuelve el valor tomado de la pila.\n",
    "    La función lee el valor de la parte superior de la pila y lo elimina.\n",
    "\n",
    "La función esta aqui:\n"
   ]
  },
  {
   "cell_type": "code",
   "execution_count": 6,
   "id": "10560b49",
   "metadata": {},
   "outputs": [],
   "source": [
    "def pop():\n",
    "    val = pila[-1]\n",
    "    del pila[-1]\n",
    "    return val"
   ]
  },
  {
   "cell_type": "markdown",
   "id": "6c08b71c",
   "metadata": {},
   "source": [
    "Nota: la función no verifica si hay algún elemento en la pila.\n",
    "\n",
    "Armemos todas las piezas juntas para poner la pila en movimiento. El programa completo empuja (push) tres números a la pila, los saca e imprime sus valores en pantalla. Puedes verlo en la ventana del editor.\n",
    "\n",
    "El programa muestra el siguiente texto en pantalla:"
   ]
  },
  {
   "cell_type": "code",
   "execution_count": 11,
   "id": "5c2f3608",
   "metadata": {},
   "outputs": [
    {
     "name": "stdout",
     "output_type": "stream",
     "text": [
      "1\n",
      "2\n",
      "3\n"
     ]
    }
   ],
   "source": [
    "push(3)\n",
    "push(2)\n",
    "push(1)\n",
    "print(pop())\n",
    "print(pop())\n",
    "print(pop())\n"
   ]
  },
  {
   "cell_type": "markdown",
   "id": "27dd2944",
   "metadata": {},
   "source": [
    "Pruébalo."
   ]
  },
  {
   "cell_type": "markdown",
   "id": "d5c5385f",
   "metadata": {},
   "source": [
    "<h3>\n",
    "    La pila: el enfoque procedimental frente al enfoque orientado a objetos\n",
    "</h3>\n",
    "<p>\n",
    "La pila procedimental está lista. Por supuesto, hay algunas debilidades, y la implementación podría mejorarse de muchas maneras (aprovechar las excepciones es una buena idea), pero en general la pila está completamente implementada, y puedes usarla si lo necesitas.\n",
    "\n",
    "Pero cuanto más la uses, más desventajas encontrarás. Éstas son algunas de ellas:\n",
    "\n",
    "    La variable esencial (la lista de la pila) es altamente vulnerable; cualquiera puede modificarla de forma incontrolable, destruyendo la pila; esto no significa que se haya hecho de manera maliciosa; por el contrario, puede ocurrir como resultado de un descuido, por ejemplo, cuando alguien confunde nombres de variables; imagina que accidentalmente has escrito algo como esto:\n",
    "\n",
    "</p>"
   ]
  },
  {
   "cell_type": "code",
   "execution_count": 13,
   "id": "7b2d2e52",
   "metadata": {},
   "outputs": [
    {
     "ename": "IndexError",
     "evalue": "list assignment index out of range",
     "output_type": "error",
     "traceback": [
      "\u001b[0;31m---------------------------------------------------------------------------\u001b[0m",
      "\u001b[0;31mIndexError\u001b[0m                                Traceback (most recent call last)",
      "Input \u001b[0;32mIn [13]\u001b[0m, in \u001b[0;36m<cell line: 1>\u001b[0;34m()\u001b[0m\n\u001b[0;32m----> 1\u001b[0m pila[\u001b[38;5;241m0\u001b[39m] \u001b[38;5;241m=\u001b[39m \u001b[38;5;241m0\u001b[39m\n",
      "\u001b[0;31mIndexError\u001b[0m: list assignment index out of range"
     ]
    }
   ],
   "source": [
    "pila[0] = 0"
   ]
  },
  {
   "cell_type": "markdown",
   "id": "027960e1",
   "metadata": {},
   "source": [
    "También puede suceder que un día necesites más de una pila; tendrás que crear otra lista para el almacenamiento de la pila, y probablemente otras funciones push y pop.\n",
    "\n",
    "También puede suceder que no solo necesites funciones push y pop, pero también algunas otras funciones; ciertamente podrías implementarlas, pero intenta imaginar qué sucedería si tuvieras docenas de pilas implementadas por separado.\n",
    "\n",
    "El enfoque orientado a objetos ofrece soluciones para cada uno de los problemas anteriores. Vamos a nombrarlos primero:\n",
    "\n",
    "    La capacidad de ocultar (proteger) los valores seleccionados contra el acceso no autorizado se llama encapsulamiento; no se puede acceder a los valores encapsulados ni modificarlos si deseas utilizarlos exclusivamente.\n",
    "\n",
    "    Cuando tienes una clase que implementa todos los comportamientos de pila necesarios, puedes producir tantas pilas como desees; no necesitas copiar ni replicar ninguna parte del código.\n",
    "\n",
    "    La capacidad de enriquecer la pila con nuevas funciones proviene de la herencia; puedes crear una nueva clase (una subclase) que herede todos los rasgos existentes de la superclase y agregue algunos nuevos.\n"
   ]
  },
  {
   "cell_type": "markdown",
   "id": "20188932",
   "metadata": {},
   "source": [
    "Ahora escribamos una nueva implementación de pila desde cero. Esta vez, utilizaremos el enfoque orientado a objetos, que te guiará paso a paso en el mundo de la programación de objetos."
   ]
  },
  {
   "cell_type": "markdown",
   "id": "40739ef5",
   "metadata": {},
   "source": [
    "La pila - el enfoque orientado a objetos\n",
    "\n",
    "Por supuesto, la idea principal sigue siendo la misma. Usaremos una lista como almacenamiento de la pila. Solo tenemos que saber cómo poner la lista en la clase.\n",
    "\n",
    "Comencemos desde el principio: así es como comienza la pila de orientada a objetos:"
   ]
  },
  {
   "cell_type": "code",
   "execution_count": 15,
   "id": "fecf58c1",
   "metadata": {},
   "outputs": [],
   "source": [
    "class Pila:\n",
    "    pass"
   ]
  },
  {
   "cell_type": "markdown",
   "id": "ba552aad",
   "metadata": {},
   "source": [
    "Ahora, esperamos dos cosas de la clase:\n",
    "\n",
    "    Queremos que la clase tenga una propiedad como el almacenamiento de la pila - tenemos que \"instalar\" una lista dentro de cada objeto de la clase (nota: cada objeto debe tener su propia lista; la lista no debe compartirse entre diferentes pilas).\n",
    "    Despues, queremos que la lista esté oculta de la vista de los usuarios de la clase.\n",
    "\n",
    "¿Cómo se hace esto?\n",
    "\n",
    "A diferencia de otros lenguajes de programación, Python no tiene medios para permitirte declarar una propiedad como esa.\n",
    "\n",
    "En su lugar, debes agregar una instrucción específica. Las propiedades deben agregarse a la clase manualmente.\n",
    "\n",
    "¿Cómo garantizar que dicha actividad tiene lugar cada vez que se crea una nueva pila?\n",
    "\n",
    "Hay una manera simple de hacerlo - tienes que equipar a la clase con una función específica:\n",
    "\n",
    "    Tiene que ser nombrada de forma estricta.\n",
    "    Se invoca implícitamente cuando se crea el nuevo objeto.\n",
    "\n",
    "Tal función es llamada el constructor, ya que su propósito general es construir un nuevo objeto. El constructor debe saber todo acerca de la estructura del objeto y debe realizar todas las inicializaciones necesarias.\n",
    "\n",
    "Agreguemos un constructor muy simple a la nueva clase. Echa un vistazo al código:"
   ]
  },
  {
   "cell_type": "code",
   "execution_count": 17,
   "id": "0d60db97",
   "metadata": {},
   "outputs": [
    {
     "name": "stdout",
     "output_type": "stream",
     "text": [
      "¡Hola!\n"
     ]
    }
   ],
   "source": [
    "class Pila:\n",
    "    def __init__(self):\n",
    "        print(\"¡Hola!\")\n",
    "\n",
    "objetoPila = Pila()"
   ]
  },
  {
   "cell_type": "markdown",
   "id": "12114d1a",
   "metadata": {},
   "source": [
    "Expliquemos más a detalle:\n",
    "\n",
    "    El nombre del constructor es siempre __init__.\n",
    "    Tiene que tener al menos un parámetro (discutiremos esto más tarde); el parámetro se usa para representar el objeto recién creado: puedes usar el parámetro para manipular el objeto y enriquecerlo con las propiedades necesarias; harás uso de esto pronto.\n",
    "    Nota: el parámetro obligatorio generalmente se denomina self - es solo una sugerencía, pero deberías seguirla - simplifica el proceso de lectura y comprensión de tu código.\n",
    "\n",
    "El código está en el editor. Ejecútalo ahora.\n",
    "\n",
    "Aquí está su salida:\n",
    "\n",
    "¡Hola!\n",
    "\n",
    "Nota: no hay rastro de la invocación del constructor dentro del código. Ha sido invocado implícita y automáticamente. Hagamos uso de eso ahora."
   ]
  },
  {
   "cell_type": "markdown",
   "id": "3e490074",
   "metadata": {},
   "source": [
    "<h3>La pila - el enfoque orientado a objetos: continuación</h3>\n",
    "\n",
    "Cualquier cambio que realices dentro del constructor que modifique el estado del parámetro self se verá reflejado en el objeto recien creado.\n",
    "\n",
    "Esto significa que puedes agregar cualquier propiedad al objeto y la propiedad permanecerá allí hasta que el objeto termine su vida o la propiedad se elimine explícitamente.\n",
    "\n",
    "Ahora agreguemos solo una propiedad al nuevo objeto - una lista para la pila. La nombraremos listaPila.\n",
    "\n",
    "Justo como aqui:"
   ]
  },
  {
   "cell_type": "code",
   "execution_count": 19,
   "id": "ea9968fc",
   "metadata": {},
   "outputs": [
    {
     "name": "stdout",
     "output_type": "stream",
     "text": [
      "0\n"
     ]
    }
   ],
   "source": [
    "class Pila:\n",
    "    def __init__(self):\n",
    "        self.listaPila = []\n",
    "\n",
    "objetoPila = Pila()\n",
    "print(len(objetoPila.listaPila))"
   ]
  },
  {
   "cell_type": "markdown",
   "id": "e5253273",
   "metadata": {},
   "source": [
    "Nota:\n",
    "\n",
    "    Hemos usado la notación punteada, al igual que cuando se invocan métodos. Esta es la manera general para acceder a las propiedades de un objeto: debes nombrar el objeto, poner un punto (.) después de el, y especificar el nombre de la propiedad deseada, ¡no uses paréntesis! No deseas invocar un método, deseas acceder a una propiedad.\n",
    "    Si estableces el valor de una propiedad por primera vez (como en el constructor), lo estás creando; a partir de ese momento, el objeto tiene la propiedad y está listo para usar su valor.\n",
    "    Hemos hecho algo más en el código: hemos intentado acceder a la propiedad listaPila desde fuera de la clase inmediatamente después de que se haya creado el objeto; queremos verificar la longitud actual de la pila, ¿lo hemos logrado?\n",
    "\n",
    "Sí, por supuesto: el código produce el siguiente resultado:\n",
    "0\n",
    "\n",
    "Esto no es lo que queremos de la pila. Nosotros queremos que listaPila este escondida del mundo exterior. ¿Es eso posible?\n",
    "\n",
    "Sí, y es simple, pero no muy intuitivo.\n",
    "\n",
    "La pila - el enfoque orientado a objetos: continuación\n",
    "\n",
    "Echa un vistazo: hemos agregado dos guiones bajos antes del nombre listaPila - nada mas:\n",
    "\n"
   ]
  },
  {
   "cell_type": "code",
   "execution_count": 21,
   "id": "643551f7",
   "metadata": {},
   "outputs": [
    {
     "ename": "AttributeError",
     "evalue": "'Pila' object has no attribute '__listaPila'",
     "output_type": "error",
     "traceback": [
      "\u001b[0;31m---------------------------------------------------------------------------\u001b[0m",
      "\u001b[0;31mAttributeError\u001b[0m                            Traceback (most recent call last)",
      "Input \u001b[0;32mIn [21]\u001b[0m, in \u001b[0;36m<cell line: 6>\u001b[0;34m()\u001b[0m\n\u001b[1;32m      3\u001b[0m         \u001b[38;5;28mself\u001b[39m\u001b[38;5;241m.\u001b[39m__listaPila \u001b[38;5;241m=\u001b[39m []\n\u001b[1;32m      5\u001b[0m objetoPila \u001b[38;5;241m=\u001b[39m Pila()\n\u001b[0;32m----> 6\u001b[0m \u001b[38;5;28mprint\u001b[39m(\u001b[38;5;28mlen\u001b[39m(\u001b[43mobjetoPila\u001b[49m\u001b[38;5;241;43m.\u001b[39;49m\u001b[43m__listaPila\u001b[49m))\n",
      "\u001b[0;31mAttributeError\u001b[0m: 'Pila' object has no attribute '__listaPila'"
     ]
    }
   ],
   "source": [
    "class Pila:\n",
    "    def __init__(self):\n",
    "        self.__listaPila = []\n",
    "\n",
    "objetoPila = Pila()\n",
    "print(len(objetoPila.__listaPila))"
   ]
  },
  {
   "cell_type": "markdown",
   "id": "6090a5b4",
   "metadata": {},
   "source": [
    "El cambio invalida el programa..\n",
    "\n",
    "¿Por qué?\n",
    "\n",
    "Cuando cualquier componente de la clase tiene un nombre que comienza con dos guiones bajos (__), se vuelve privado - esto significa que solo se puede acceder desde la clase.\n",
    "\n",
    "No puedes verlo desde el mundo exterior. Así es como Python implementa el concepto de encapsulación.\n",
    "\n",
    "Ejecuta el programa para probar nuestras suposiciones: una excepción AttributeError debe ser lanzada."
   ]
  },
  {
   "cell_type": "markdown",
   "id": "275dca20",
   "metadata": {},
   "source": [
    "<h3>El enfoque orientado a objetos: una pila desde cero</h3>\n",
    "\n",
    "Ahora es el momento de que las dos funciones (métodos) implementen las operaciones push y pop. Python supone que una función de este tipo debería estar inmersa dentro del cuerpo de la clase - como el constructor.\n",
    "\n",
    "Queremos invocar estas funciones para agregar (push) y quitar (pop) valores de la pila. Esto significa que ambos deben ser accesibles para el usuario de la clase (en contraste con la lista previamente construida, que está oculta para los usuarios de la clase ordinaria).\n",
    "\n",
    "Tal componente es llamado publico, por ello no puede comenzar su nombre con dos (o más) guiones bajos. Hay un requisito más - el nombre no debe tener más de un guión bajo.\n",
    "\n",
    "Las funciones en sí son simples. Echa un vistazo:"
   ]
  },
  {
   "cell_type": "code",
   "execution_count": 23,
   "id": "b07739c5",
   "metadata": {},
   "outputs": [
    {
     "name": "stdout",
     "output_type": "stream",
     "text": [
      "1\n",
      "2\n",
      "3\n"
     ]
    }
   ],
   "source": [
    "class Pila:\n",
    "    def __init__(self):\n",
    "        self.__listaPila = []\n",
    "\n",
    "    def push(self, val):\n",
    "        self.__listaPila.append(val)\n",
    "\n",
    "    def pop(self):\n",
    "        val = self.__listaPila[-1]\n",
    "        del self.__listaPila[-1]\n",
    "        return val\n",
    "\n",
    "\n",
    "objetoPila = Pila()\n",
    "\n",
    "objetoPila.push(3)\n",
    "objetoPila.push(2)\n",
    "objetoPila.push(1)\n",
    "\n",
    "print(objetoPila.pop())\n",
    "print(objetoPila.pop())\n",
    "print(objetoPila.pop())"
   ]
  },
  {
   "cell_type": "markdown",
   "id": "788a7a32",
   "metadata": {},
   "source": [
    "Sin embargo, hay algo realmente extraño en el código. Las funciones parecen familiares, pero tienen más parámetros que sus contrapartes procedimentales.\n",
    "\n",
    "Aquí, ambas funciones tienen un parámetro llamado self en la primera posición de la lista de parámetros.\n",
    "\n",
    "¿Es necesario? Si, lo es.\n",
    "\n",
    "Todos los métodos deben tener este parámetro. Desempeña el mismo papel que el primer parámetro constructor.\n",
    "\n",
    "Permite que el método acceda a entidades (propiedades y actividades / métodos) del objeto. No puedes omitirlo. Cada vez que Python invoca un método, envía implícitamente el objeto actual como el primer argumento.\n",
    "\n",
    "Esto significa que el método está obligado a tener al menos un parámetro, que Python mismo utiliza - no tienes ninguna influencia sobre el.\n",
    "\n",
    "Si tu método no necesita ningún parámetro, este debe especificarse de todos modos. Si está diseñado para procesar solo un parámetro, debes especificar dos, ya que la función del primero sigue siendo la misma.\n",
    "\n",
    "Hay una cosa más que requiere explicación: la forma en que se invocan los métodos desde la variable __listaPila.\n",
    "\n",
    "Afortunadamente, es mucho más simple de lo que parece:\n",
    "\n",
    "    La primera etapa entrega el objeto como un todo → self.\n",
    "    A continuación, debes llegar a la lista __listaPila → self.__listaPila.\n",
    "    Con __listaPila lista para ser usada, puedes realizar el tercer y último paso → self.__listaPila.append(val).\n",
    "\n",
    "La declaración de la clase está completa y se han enumerado todos sus componentes. La clase está lista para usarse."
   ]
  },
  {
   "cell_type": "markdown",
   "id": "b351218c",
   "metadata": {},
   "source": [
    "<h3>El enfoque orientado a objetos: una pila desde cero</h3>\n",
    "Ahora es el momento de que las dos funciones (métodos) implementen las operaciones push y pop. Python supone que una función de este tipo debería estar inmersa dentro del cuerpo de la clase - como el constructor.\n",
    "\n",
    "Queremos invocar estas funciones para agregar (push) y quitar (pop) valores de la pila. Esto significa que ambos deben ser accesibles para el usuario de la clase (en contraste con la lista previamente construida, que está oculta para los usuarios de la clase ordinaria).\n",
    "\n",
    "Tal componente es llamado publico, por ello no puede comenzar su nombre con dos (o más) guiones bajos. Hay un requisito más - el nombre no debe tener más de un guión bajo.\n",
    "\n",
    "Las funciones en sí son simples. Echa un vistazo:"
   ]
  },
  {
   "cell_type": "code",
   "execution_count": 25,
   "id": "85afa954",
   "metadata": {},
   "outputs": [
    {
     "name": "stdout",
     "output_type": "stream",
     "text": [
      "1\n",
      "2\n",
      "3\n"
     ]
    }
   ],
   "source": [
    "class Pila:\n",
    "    def __init__(self):\n",
    "        self.__listaPila = []\n",
    "\n",
    "    def push(self, val):\n",
    "        self.__listaPila.append(val)\n",
    "\n",
    "    def pop(self):\n",
    "        val = self.__listaPila[-1]\n",
    "        del self.__listaPila[-1]\n",
    "        return val\n",
    "\n",
    "\n",
    "objetoPila = Pila()\n",
    "\n",
    "objetoPila.push(3)\n",
    "objetoPila.push(2)\n",
    "objetoPila.push(1)\n",
    "\n",
    "print(objetoPila.pop())\n",
    "print(objetoPila.pop())\n",
    "print(objetoPila.pop())"
   ]
  },
  {
   "cell_type": "markdown",
   "id": "128e2e7a",
   "metadata": {},
   "source": [
    "Sin embargo, hay algo realmente extraño en el código. Las funciones parecen familiares, pero tienen más parámetros que sus contrapartes procedimentales.\n",
    "\n",
    "Aquí, ambas funciones tienen un parámetro llamado self en la primera posición de la lista de parámetros.\n",
    "\n",
    "¿Es necesario? Si, lo es.\n",
    "\n",
    "Todos los métodos deben tener este parámetro. Desempeña el mismo papel que el primer parámetro constructor.\n",
    "\n",
    "Permite que el método acceda a entidades (propiedades y actividades / métodos) del objeto. No puedes omitirlo. Cada vez que Python invoca un método, envía implícitamente el objeto actual como el primer argumento.\n",
    "\n",
    "Esto significa que el método está obligado a tener al menos un parámetro, que Python mismo utiliza - no tienes ninguna influencia sobre el.\n",
    "\n",
    "Si tu método no necesita ningún parámetro, este debe especificarse de todos modos. Si está diseñado para procesar solo un parámetro, debes especificar dos, ya que la función del primero sigue siendo la misma.\n",
    "\n",
    "Hay una cosa más que requiere explicación: la forma en que se invocan los métodos desde la variable __listaPila.\n",
    "\n",
    "Afortunadamente, es mucho más simple de lo que parece:\n",
    "\n",
    "    La primera etapa entrega el objeto como un todo → self.\n",
    "    A continuación, debes llegar a la lista __listaPila → self.__listaPila.\n",
    "    Con __listaPila lista para ser usada, puedes realizar el tercer y último paso → self.__listaPila.append(val).\n",
    "\n",
    "La declaración de la clase está completa y se han enumerado todos sus componentes. La clase está lista para usarse."
   ]
  },
  {
   "cell_type": "markdown",
   "id": "3523d0df",
   "metadata": {},
   "source": [
    "<h3>El enfoque orientado a objetos: una pila desde cero</h3>\n",
    "<p>\n",
    "Tener tal clase abre nuevas posibilidades. Por ejemplo, ahora puedes hacer que más de una pila se comporte de la misma manera. Cada pila tendrá su propia copia de datos privados, pero utilizará el mismo conjunto de métodos.\n",
    "\n",
    "Esto es exactamente lo que queremos para este ejemplo.\n",
    "\n",
    "Analiza el código:\n",
    "</p>"
   ]
  },
  {
   "cell_type": "code",
   "execution_count": 27,
   "id": "52e4ab00",
   "metadata": {},
   "outputs": [
    {
     "name": "stdout",
     "output_type": "stream",
     "text": [
      "3\n"
     ]
    }
   ],
   "source": [
    "class Pila:\n",
    "    def __init__(self):\n",
    "        self.__listaPila = []\n",
    "\n",
    "    def push(self, val):\n",
    "        self.__listaPila.append(val)\n",
    "\n",
    "    def pop(self):\n",
    "        val = self.__listaPila[-1]\n",
    "        del self.__listaPila[-1]\n",
    "        return val\n",
    "\n",
    "\n",
    "objetoPila1 = Pila()\n",
    "objetoPila2 = Pila()\n",
    "\n",
    "objetoPila1.push(3)\n",
    "objetoPila2.push(objetoPila1.pop())\n",
    "\n",
    "print(objetoPila2.pop())"
   ]
  },
  {
   "cell_type": "markdown",
   "id": "b123fad2",
   "metadata": {},
   "source": [
    "Existen dos pilas creadas a partir de la misma clase base. Trabajan independientemente. Puedes crear más si quieres.\n",
    "\n",
    "Ejecuta el código en el editor y ve qué sucede. Realiza tus propios experimentos."
   ]
  },
  {
   "cell_type": "markdown",
   "id": "4a069fec",
   "metadata": {},
   "source": [
    "Analiza el fragmento a continuación: hemos creado tres objetos de la clase Pila. Después, hemos hecho malabarismos. Intenta predecir el valor que se muestra en la pantalla."
   ]
  },
  {
   "cell_type": "code",
   "execution_count": 29,
   "id": "aa58549d",
   "metadata": {},
   "outputs": [
    {
     "name": "stdout",
     "output_type": "stream",
     "text": [
      "0\n"
     ]
    }
   ],
   "source": [
    "class Pila:\n",
    "    def __init__(self):\n",
    "        self.__listaPila = []\n",
    "\n",
    "    def push(self, val):\n",
    "        self.__listaPila.append(val)\n",
    "\n",
    "    def pop(self):\n",
    "        val = self.__listaPila[-1]\n",
    "        del self.__listaPila[-1]\n",
    "        return val \n",
    "\n",
    "pequeñaPila = Pila()\n",
    "otraPila = Pila()\n",
    "graciosaPila = Pila()\n",
    "\n",
    "pequeñaPila.push(1)\n",
    "otraPila.push(pequeñaPila.pop() + 1)\n",
    "graciosaPila.push(otraPila.pop() - 2)\n",
    "\n",
    "print(graciosaPila.pop())"
   ]
  },
  {
   "cell_type": "markdown",
   "id": "990f5694",
   "metadata": {},
   "source": [
    "Entonces, ¿cuál es el resultado? Ejecuta el programa y comprueba si tenías razón."
   ]
  },
  {
   "cell_type": "markdown",
   "id": "4d944c86",
   "metadata": {},
   "source": [
    "Ahora vamos un poco más lejos. Vamos a agregar una nueva clase para manejar pilas.\n",
    "\n",
    "La nueva clase debería poder evaluar la suma de todos los elementos almacenados actualmente en la pila.\n",
    "\n",
    "No queremos modificar la pila previamente definida. Ya es lo suficientemente buena en sus aplicaciones, y no queremos que cambie de ninguna manera. Queremos una nueva pila con nuevas capacidades. En otras palabras, queremos construir una subclase de la ya existente clase Pila.\n",
    "\n",
    "El primer paso es fácil: solo define una nueva subclase que apunte a la clase que se usará como superclase.\n",
    "\n",
    "Así es como se ve:"
   ]
  },
  {
   "cell_type": "code",
   "execution_count": 30,
   "id": "a60f155b",
   "metadata": {},
   "outputs": [],
   "source": [
    "class SumarPila(Pila):\n",
    "    pass"
   ]
  },
  {
   "cell_type": "markdown",
   "id": "2bef0577",
   "metadata": {},
   "source": [
    "La clase aún no define ningún componente nuevo, pero eso no significa que esté vacía. Obtiene (hereda) todos los componentes definidos por su superclase - el nombre de la superclase se escribe después de los dos puntos, después del nombre de la nueva clase.\n",
    "\n",
    "Esto es lo que queremos de la nueva pila:\n",
    "\n",
    "    Queremos que el método push no solo inserte el valor en la pila, sino que también sume el valor a la variable sum.\n",
    "    Queremos que la función pop no solo extraiga el valor de la pila, sino que también reste el valor de la variable sum.\n",
    "\n",
    "\n",
    "En primer lugar, agreguemos una nueva variable a la clase. Sera una variable privada, al igual que la lista de pila. No queremos que nadie manipule el valor de la variable sum.\n",
    "\n",
    "Como ya sabes, el constructor agrega una nueva propiedad a la clase. Ya sabes cómo hacerlo, pero hay algo realmente intrigante dentro del constructor. Echa un vistazo:"
   ]
  },
  {
   "cell_type": "code",
   "execution_count": 31,
   "id": "561a03ef",
   "metadata": {},
   "outputs": [],
   "source": [
    "\n",
    "class SumarPila(Pila):\n",
    "    def __init__(self):\n",
    "        Pila.__init__(self)\n",
    "        self.__sum = 0"
   ]
  },
  {
   "cell_type": "markdown",
   "id": "d9327cf1",
   "metadata": {},
   "source": [
    "La segunda línea del cuerpo del constructor crea una propiedad llamada __sum - almacenará el total de todos los valores de la pila.\n",
    "\n",
    "Pero la línea anterior se ve diferente. ¿Qué hace? ¿Es realmente necesaria? Sí lo es.\n",
    "\n",
    "Al contrario de muchos otros lenguajes, Python te obliga a invocar explícitamente el constructor de una superclase. Omitir este punto tendrá efectos nocivos: el objeto se verá privado de la lista __listaPila. Tal pila no funcionará correctamente.\n",
    "\n",
    "Esta es la única vez que puedes invocar a cualquiera de los constructores disponibles explícitamente; se puede hacer dentro del constructor de la superclase.\n",
    "\n",
    "Ten en cuenta la sintaxis:\n",
    "\n",
    "    Se especifica el nombre de la superclase (esta es la clase cuyo constructor se desea ejecutar).\n",
    "    Se pone un punto (.) después del nombre.\n",
    "    Se especifica el nombre del constructor.\n",
    "    Se debe señalar al objeto (la instancia de la clase) que debe ser inicializado por el constructor; es por eso que se debe especificar el argumento y utilizar la variable self aquí; recuerda: invocar cualquier método (incluidos los constructores) desde fuera de la clase nunca requiere colocar el argumento self en la lista de argumentos - invocar un método desde dentro de la clase exige el uso explícito del argumento self, y tiene que ser el primero en la lista.\n",
    "\n",
    "Nota: generalmente es una práctica recomendada invocar al constructor de la superclase antes de cualquier otra inicialización que desees realizar dentro de la subclase. Esta es la regla que hemos seguido en el código.\n",
    "\n",
    "En segundo lugar, agreguemos dos métodos. Pero, ¿realmente estamos agregándolos? Ya tenemos estos métodos en la superclase. ¿Podemos hacer algo así?\n",
    "\n",
    "Si podemos. Significa que vamos a cambiar la funcionalidad de los métodos, no sus nombres. Podemos decir con mayor precisión que la interfaz (la forma en que se manejan los objetos) de la clase permanece igual al cambiar la implementación al mismo tiempo.\n",
    "\n",
    "Comencemos con la implementación de la función push. Esto es lo que esperamos de la función:\n",
    "\n",
    "    Agregar el valor a la variable __sum.\n",
    "    Agregar el valor a la pila.\n",
    "\n",
    "Nota: la segunda actividad ya se implementó dentro de la superclase, por lo que podemos usarla. Además, tenemos que usarla, ya que no hay otra forma de acceder a la variable __listaPila.\n",
    "\n",
    "Así es como se mira el método push dentro de la subclase:"
   ]
  },
  {
   "cell_type": "code",
   "execution_count": 33,
   "id": "74b917e2",
   "metadata": {},
   "outputs": [],
   "source": [
    "def push(self, val):\n",
    "    self.__sum += val\n",
    "    Pila.push(self, val)"
   ]
  },
  {
   "cell_type": "markdown",
   "id": "b03197c8",
   "metadata": {},
   "source": [
    "Toma en cuenta la forma en que hemos invocado la implementación anterior del método push (el disponible en la superclase):\n",
    "\n",
    "    Tenemos que especificar el nombre de la superclase; esto es necesario para indicar claramente la clase que contiene el método, para evitar confundirlo con cualquier otra función del mismo nombre.\n",
    "    Tenemos que especificar el objeto de destino y pasarlo como primer argumento (no se agrega implícitamente a la invocación en este contexto).\n",
    "\n",
    "Se dice que el método push ha sido anulado - el mismo nombre que en la superclase ahora representa una funcionalidad diferente.\n",
    "\n",
    "Esta es la nueva función pop:"
   ]
  },
  {
   "cell_type": "code",
   "execution_count": null,
   "id": "0f432fa8",
   "metadata": {},
   "outputs": [],
   "source": [
    "def pop(self):\n",
    "    val = Pila.pop(self)\n",
    "    self.__sum -= val\n",
    "    return val"
   ]
  },
  {
   "cell_type": "markdown",
   "id": "b742f743",
   "metadata": {},
   "source": [
    "Hasta ahora, hemos definido la variable __sum, pero no hemos proporcionado un método para obtener su valor. Parece estar escondido. ¿Cómo podemos mostrarlo y que al mismo tiempo se proteja de modificaciones?\n",
    "\n",
    "Tenemos que definir un nuevo método. Lo nombraremos getSuma. Su única tarea será devolver el valor de __sum.\n",
    "\n",
    "Aquí está:\n"
   ]
  },
  {
   "cell_type": "code",
   "execution_count": 34,
   "id": "8d634e8e",
   "metadata": {},
   "outputs": [],
   "source": [
    "def getSuma(self):\n",
    "    return self.__sum"
   ]
  },
  {
   "cell_type": "markdown",
   "id": "a10e53d7",
   "metadata": {},
   "source": [
    "Entonces, veamos el programa en el editor. El código completo de la clase está ahí. Podemos ahora verificar su funcionamiento, y lo hacemos con la ayuda de unas pocas líneas de código adicionales.\n",
    "\n",
    "Como puedes ver, agregamos cinco valores subsiguientes en la pila, imprimimos su suma y los sacamos todos de la pila.\n",
    "\n",
    "Bien, esta ha sido una breve introducción a la programación de orientada a objetos de Python. Pronto te contaremos todo con más detalle.\n",
    "\n",
    "\n",
    "<h3>Variables de instancia</h3>\n",
    "En general, una clase puede equiparse con dos tipos diferentes de datos para formar las propiedades de una clase. Ya viste uno de ellos cuando estábamos estudiando pilas.\n",
    "\n",
    "Este tipo de propiedad existe solo cuando se crea explícitamente y se agrega a un objeto. Como ya sabes, esto se puede hacer durante la inicialización del objeto, realizada por el constructor.\n",
    "\n",
    "Además, se puede hacer en cualquier momento de la vida del objeto. Es importante mencionar también que cualquier propiedad existente se puede eliminar en cualquier momento.\n",
    "\n",
    "Tal enfoque tiene algunas consecuencias importantes:\n",
    "\n",
    "    Diferentes objetos de la misma clase pueden poseer diferentes conjuntos de propiedades.\n",
    "    Debe haber una manera de verificar con seguridad si un objeto específico posee la propiedad que deseas utilizar (a menos que quieras provocar una excepción, siempre vale la pena considerarlo).\n",
    "    Cada objeto lleva su propio conjunto de propiedades - no interfieren entre sí de ninguna manera.\n",
    "\n",
    "Tales variables (propiedades) se llaman variables de instancia.\n",
    "\n",
    "La palabra instancia sugiere que están estrechamente conectadas a los objetos (que son instancias de clase), no a las clases mismas. Echemos un vistazo más de cerca a ellas.\n",
    "\n",
    "Aquí hay un ejemplo:"
   ]
  },
  {
   "cell_type": "code",
   "execution_count": 36,
   "id": "f4e62ebe",
   "metadata": {},
   "outputs": [
    {
     "name": "stdout",
     "output_type": "stream",
     "text": [
      "{'primera': 1}\n",
      "{'primera': 2, 'segunda': 3}\n",
      "{'primera': 4, 'tercera': 5}\n"
     ]
    }
   ],
   "source": [
    "class ClaseEjemplo:\n",
    "    def __init__(self, val = 1):\n",
    "        self.primera = val\n",
    "\n",
    "    def setSegunda(self, val):\n",
    "        self.segunda = val\n",
    "\n",
    "\n",
    "objetoEjemplo1 = ClaseEjemplo()\n",
    "objetoEjemplo2 = ClaseEjemplo(2)\n",
    "\n",
    "objetoEjemplo2.setSegunda(3)\n",
    "\n",
    "objetoEjemplo3 = ClaseEjemplo(4)\n",
    "objetoEjemplo3.tercera = 5\n",
    "\n",
    "\n",
    "print(objetoEjemplo1.__dict__)\n",
    "print(objetoEjemplo2.__dict__)\n",
    "print(objetoEjemplo3.__dict__)"
   ]
  },
  {
   "cell_type": "markdown",
   "id": "9119441c",
   "metadata": {},
   "source": [
    "Se necesita una explicación adicional antes de entrar en más detalles. Echa un vistazo a las últimas tres líneas del código.\n",
    "\n",
    "Los objetos de Python, cuando se crean, están dotados de un pequeño conjunto de propiedades y métodos predefinidos. Cada objeto los tiene, los quieras o no. Uno de ellos es una variable llamada __dict__ (es un diccionario).\n",
    "\n",
    "La variable contiene los nombres y valores de todas las propiedades (variables) que el objeto contiene actualmente. Vamos a usarla para presentar de forma segura el contenido de un objeto.\n",
    "\n",
    "Vamos a sumergirnos en el código ahora:\n",
    "\n",
    "    La clase llamada ClaseEjemplo tiene un constructor, el cual crea incondicionalmente una variable de instancia llamada primera, y le asigna el valor pasado a través del primer argumento (desde la perspectiva del usuario de la clase) o el segundo argumento (desde la perspectiva del constructor); ten en cuenta el valor predeterminado del parámetro: cualquier cosa que puedas hacer con un parámetro de función regular también se puede aplicar a los métodos.\n",
    "\n",
    "    La clase también tiene un método que crea otra variable de instancia, llamada segunda.\n",
    "\n",
    "    Hemos creado tres objetos de la clase ClaseEjemplo, pero todas estas instancias difieren:\n",
    "\n",
    "        objetoEjemplo1 solo tiene una propiedad llamada primera.\n",
    "\n",
    "        objetoEjemplo2 tiene dos propiedades: primera y segunda.\n",
    "\n",
    "        objetoEjemplo3 ha sido enriquecido sobre la marcha con una propiedad llamada tercera, fuera del código de la clase: esto es posible y totalmente permisible.\n",
    "\n",
    "La salida del programa muestra claramente que nuestras suposiciones son correctas: aquí están:\n",
    "{'primera': 1}\n",
    "{'primera': 2, 'segunda': 3}\n",
    "{'primera': 4, 'tercera': 5}\n",
    "\n",
    "Hay una conclusión adicional que debería mencionarse aquí: el modificar una variable de instancia de cualquier objeto no tiene impacto en todos los objetos restantes. Las variables de instancia están perfectamente aisladas unas de otras.\n"
   ]
  },
  {
   "cell_type": "markdown",
   "id": "a865d83f",
   "metadata": {},
   "source": [
    "Observa el ejemplo modificado en el editor.\n",
    "\n",
    "Es casi lo mismo que el anterior. La única diferencia está en los nombres de las propiedades. Hemos agregado dos guiones bajos (__) en frente de ellos.\n",
    "\n",
    "Como sabes, tal adición hace que la variable de instancia sea privada - se vuelve inaccesible desde el mundo exterior.\n",
    "\n",
    "El comportamiento real de estos nombres es un poco más complicado, así que ejecutemos el programa. Esta es la salida:\n",
    "{'_ClaseEjemplo__primera': 1}\n",
    "{'_ClaseEjemplo__primera': 2, '_ClaseEjemplo__segunda': 3}\n",
    "{'_ClaseEjemplo__primera': 4, '__tercera': 5}\n",
    "\n",
    "¿Puedes ver estos nombres extraños llenos de guiones bajos? ¿De dónde provienen?\n",
    "\n",
    "Cuando Python ve que deseas agregar una variable de instancia a un objeto y lo vas a hacer dentro de cualquiera de los métodos del objeto, maneja la operación de la siguiente manera:\n",
    "\n",
    "    Coloca un nombre de clase antes de tu nombre.\n",
    "    Coloca un guión bajo adicional al principio.\n",
    "\n",
    "Es por ello que __primera se convierte en _ClaseEjemplo__primera.\n",
    "\n",
    "El nombre ahora es completamente accesible desde fuera de la clase. Puedes ejecutar un código como este:\n",
    "print(objetoEjemplo1._ClaseEjemplo__primera)\n",
    "\n",
    "y obtendrás un resultado válido sin errores ni excepciones.\n",
    "\n",
    "Como puedes ver, hacer que una propiedad sea privada es limitado.\n",
    "\n",
    "No funcionará si agregas una variable de instancia fuera del código de clase. En este caso, se comportará como cualquier otra propiedad ordinaria.\n"
   ]
  },
  {
   "cell_type": "code",
   "execution_count": 1,
   "id": "7d8dbaa2",
   "metadata": {},
   "outputs": [
    {
     "name": "stdout",
     "output_type": "stream",
     "text": [
      "{'_ClaseEjemplo__primera': 1}\n",
      "{'_ClaseEjemplo__primera': 2, '_ClaseEjemplo__segunda': 3}\n",
      "{'_ClaseEjemplo__primera': 4, '__tercera': 5}\n"
     ]
    }
   ],
   "source": [
    "class ClaseEjemplo:\n",
    "    def __init__(self, val = 1):\n",
    "        self.__primera = val\n",
    "\n",
    "    def setSegunda(self, val):\n",
    "        self.__segunda = val\n",
    "\n",
    "\n",
    "objetoEjemplo1 = ClaseEjemplo()\n",
    "objetoEjemplo2 = ClaseEjemplo(2)\n",
    "\n",
    "objetoEjemplo2.setSegunda(3)\n",
    "\n",
    "objetoEjemplo3 = ClaseEjemplo(4)\n",
    "objetoEjemplo3.__tercera = 5\n",
    "\n",
    "\n",
    "print(objetoEjemplo1.__dict__)\n",
    "print(objetoEjemplo2.__dict__)\n",
    "print(objetoEjemplo3.__dict__)"
   ]
  },
  {
   "cell_type": "markdown",
   "id": "b815b1f2",
   "metadata": {},
   "source": [
    "<h3>Variables de Clase</h3>\n",
    "\n",
    "Una variable de clase es una propiedad que existe en una sola copia y se almacena fuera de cualquier objeto.\n",
    "\n",
    "Nota: no existe una variable de instancia si no hay ningún objeto en la clase; existe una variable de clase en una copia, incluso si no hay objetos en la clase.\n",
    "\n",
    "Las variables de clase se crean de manera diferente. El ejemplo te dirá más:"
   ]
  },
  {
   "cell_type": "code",
   "execution_count": 2,
   "id": "a440e4a2",
   "metadata": {},
   "outputs": [
    {
     "name": "stdout",
     "output_type": "stream",
     "text": [
      "{'_ClaseEjemplo__primera': 1} 3\n",
      "{'_ClaseEjemplo__primera': 2} 3\n",
      "{'_ClaseEjemplo__primera': 4} 3\n"
     ]
    }
   ],
   "source": [
    "class ClaseEjemplo:\n",
    "    contador = 0\n",
    "    def __init__(self, val = 1):\n",
    "        self.__primera = val\n",
    "        ClaseEjemplo.contador += 1\n",
    "\n",
    "objetoEjemplo1 = ClaseEjemplo()\n",
    "objetoEjemplo2 = ClaseEjemplo(2)\n",
    "objetoEjemplo3 = ClaseEjemplo(4)\n",
    "\n",
    "print(objetoEjemplo1.__dict__, objetoEjemplo1.contador)\n",
    "print(objetoEjemplo2.__dict__, objetoEjemplo2.contador)\n",
    "print(objetoEjemplo3.__dict__, objetoEjemplo3.contador)"
   ]
  },
  {
   "cell_type": "markdown",
   "id": "a3083812",
   "metadata": {},
   "source": [
    "Observa:\n",
    "\n",
    "    Hay una asignación en la primera linea de la definición de clase: establece la variable denominada contador a 0; inicializando la variable dentro de la clase pero fuera de cualquiera de sus métodos hace que la variable sea una variable de clase.\n",
    "    El acceder a dicha variable tiene el mismo aspecto que acceder a cualquier atributo de instancia; está en el cuerpo del constructor; como puedes ver, el constructor incrementa la variable en uno; en efecto, la variable cuenta todos los objetos creados.\n",
    "\n",
    "Ejecutar el código causará el siguiente resultado:<br>\n",
    "{'_ClaseEjemplo__primera': 1} 3<br>\n",
    "{'_ClaseEjemplo__primera': 2} 3<br>\n",
    "{'_ClaseEjemplo__primera': 4} 3<br>\n",
    "\n",
    "Dos conclusiones importantes provienen del ejemplo:\n",
    "\n",
    "    Las variables de clase no se muestran en el diccionario de un objeto __dict__ (esto es natural ya que las variables de clase no son partes de un objeto), pero siempre puedes intentar buscar en la variable del mismo nombre, pero a nivel de clase, te mostraremos esto muy pronto.\n",
    "    Una variable de clase siempre presenta el mismo valor en todas las instancias de clase (objetos).\n"
   ]
  },
  {
   "cell_type": "markdown",
   "id": "a43df3ba",
   "metadata": {},
   "source": [
    "Mira el ejemplo en el editor. ¿Puedes adivinar su salida?\n",
    "\n",
    "Ejecuta el programa y verifica si tus predicciones fueron correctas. Todo funciona como se esperaba, ¿no?\n"
   ]
  },
  {
   "cell_type": "code",
   "execution_count": 4,
   "id": "0d727793",
   "metadata": {},
   "outputs": [
    {
     "name": "stdout",
     "output_type": "stream",
     "text": [
      "{'_ClaseEjemplo__primera': 1} 3\n",
      "{'_ClaseEjemplo__primera': 2} 3\n",
      "{'_ClaseEjemplo__primera': 4} 3\n"
     ]
    }
   ],
   "source": [
    "class ClaseEjemplo:\n",
    "    __contador = 0\n",
    "    def __init__(self, val = 1):\n",
    "        self.__primera = val\n",
    "        ClaseEjemplo.__contador += 1\n",
    "\n",
    "objetoEjemplo1 = ClaseEjemplo()\n",
    "objetoEjemplo2 = ClaseEjemplo(2)\n",
    "objetoEjemplo3 = ClaseEjemplo(4)\n",
    "    \n",
    "print(objetoEjemplo1.__dict__, objetoEjemplo1._ClaseEjemplo__contador)\n",
    "print(objetoEjemplo2.__dict__, objetoEjemplo2._ClaseEjemplo__contador)\n",
    "print(objetoEjemplo3.__dict__, objetoEjemplo3._ClaseEjemplo__contador)"
   ]
  },
  {
   "cell_type": "markdown",
   "id": "3d3079fc",
   "metadata": {},
   "source": [
    "Hemos dicho antes que las variables de clase existen incluso cuando no se creó ninguna instancia de clase (objeto).\n",
    "\n",
    "Ahora aprovecharemos la oportunidad para mostrarte la diferencia entre estas dos variables __dict__, la de la clase y la del objeto.\n",
    "\n",
    "Observa el código en el editor. La prueba está ahí.\n",
    "\n",
    "Echemos un vistazo más de cerca:\n",
    "\n",
    "    Definimos una clase llamada ClaseEjemplo.\n",
    "    La clase define una variable de clase llamada varia.\n",
    "    El constructor de la clase establece la variable con el valor del parámetro.\n",
    "    Nombrar la variable es el aspecto más importante del ejemplo porque:\n",
    "        El cambiar la asignación a self.varia = val crearía una variable de instancia con el mismo nombre que la clase.\n",
    "        El cambiar la asignación a varia = val operaría en la variable local de un método; (te recomendamos probar los dos casos anteriores; esto te facilitará recordar la diferencia).\n",
    "    La primera línea del código fuera de la clase imprime el valor del atributo ClaseEjemplo.varia. Nota: utilizamos el valor antes de instanciar el primer objeto de la clase.\n",
    "\n",
    "Ejecuta el código en el editor y verifica su salida.\n",
    "\n",
    "Como puedes ver __dict__ contiene muchos más datos que la contraparte de su objeto. La mayoría de ellos son inútiles ahora - el que queremos que verifiques cuidadosamente muestra el valor actual de varia.\n",
    "\n",
    "Nota que el __dict__ del objeto está vacío - el objeto no tiene variables de instancia."
   ]
  },
  {
   "cell_type": "code",
   "execution_count": 6,
   "id": "c649c862",
   "metadata": {},
   "outputs": [
    {
     "name": "stdout",
     "output_type": "stream",
     "text": [
      "{'__module__': '__main__', 'varia': 1, '__init__': <function ClaseEjemplo.__init__ at 0x7f08c1ea80d0>, '__dict__': <attribute '__dict__' of 'ClaseEjemplo' objects>, '__weakref__': <attribute '__weakref__' of 'ClaseEjemplo' objects>, '__doc__': None}\n",
      "{'__module__': '__main__', 'varia': 2, '__init__': <function ClaseEjemplo.__init__ at 0x7f08c1ea80d0>, '__dict__': <attribute '__dict__' of 'ClaseEjemplo' objects>, '__weakref__': <attribute '__weakref__' of 'ClaseEjemplo' objects>, '__doc__': None}\n",
      "{}\n"
     ]
    }
   ],
   "source": [
    "class ClaseEjemplo:\n",
    "    varia = 1\n",
    "    def __init__(self, val):\n",
    "        ClaseEjemplo.varia = val\n",
    "\n",
    "print(ClaseEjemplo.__dict__)\n",
    "objetoEjemplo = ClaseEjemplo(2)\n",
    "\n",
    "print(ClaseEjemplo.__dict__)\n",
    "print(objetoEjemplo.__dict__)"
   ]
  },
  {
   "cell_type": "markdown",
   "id": "fb68abb3",
   "metadata": {},
   "source": [
    "<h3>Comprobando la existencia de un atributo</h3>\n",
    "\n",
    "La actitud de Python hacia la instanciación de objetos plantea una cuestión importante: en contraste con otros lenguajes de programación, es posible que no esperes que todos los objetos de la misma clase tengan los mismos conjuntos de propiedades.\n",
    "\n",
    "Justo como en el ejemplo en el editor. Míralo cuidadosamente.\n",
    "\n",
    "El objeto creado por el constructor solo puede tener uno de los dos atributos posibles: a o b.\n",
    "\n",
    "La ejecución del código producirá el siguiente resultado:\n",
    "1<br>\n",
    "Traceback (most recent call last):<br>\n",
    "  File \".main.py\", line 11, in <br>\n",
    "    print(objetoEjemplo.b)<br>\n",
    "AttributeError: 'ClaseEjemplo' object has no attribute 'b'<br>\n",
    "\n",
    "Como puedes ver, acceder a un atributo de objeto (clase) no existente provoca una excepción AttributeError."
   ]
  },
  {
   "cell_type": "code",
   "execution_count": 8,
   "id": "285e0880",
   "metadata": {},
   "outputs": [
    {
     "name": "stdout",
     "output_type": "stream",
     "text": [
      "1\n"
     ]
    },
    {
     "ename": "AttributeError",
     "evalue": "'ClaseEjemplo' object has no attribute 'b'",
     "output_type": "error",
     "traceback": [
      "\u001b[0;31m---------------------------------------------------------------------------\u001b[0m",
      "\u001b[0;31mAttributeError\u001b[0m                            Traceback (most recent call last)",
      "Input \u001b[0;32mIn [8]\u001b[0m, in \u001b[0;36m<cell line: 11>\u001b[0;34m()\u001b[0m\n\u001b[1;32m      8\u001b[0m objetoEjemplo \u001b[38;5;241m=\u001b[39m ClaseEjemplo(\u001b[38;5;241m1\u001b[39m)\n\u001b[1;32m     10\u001b[0m \u001b[38;5;28mprint\u001b[39m(objetoEjemplo\u001b[38;5;241m.\u001b[39ma)\n\u001b[0;32m---> 11\u001b[0m \u001b[38;5;28mprint\u001b[39m(\u001b[43mobjetoEjemplo\u001b[49m\u001b[38;5;241;43m.\u001b[39;49m\u001b[43mb\u001b[49m)\n",
      "\u001b[0;31mAttributeError\u001b[0m: 'ClaseEjemplo' object has no attribute 'b'"
     ]
    }
   ],
   "source": [
    "class ClaseEjemplo:\n",
    "    def __init__(self, val):\n",
    "        if val % 2 != 0:\n",
    "            self.a = 1\n",
    "        else:\n",
    "            self.b = 1\n",
    "\n",
    "objetoEjemplo = ClaseEjemplo(1)\n",
    "\n",
    "print(objetoEjemplo.a)\n",
    "print(objetoEjemplo.b)"
   ]
  },
  {
   "cell_type": "markdown",
   "id": "9acb8485",
   "metadata": {},
   "source": [
    "<h3>Comprobando la existencia de un atributo: continuación</h3>\n",
    "\n",
    "La instrucción try-except te brinda la oportunidad de evitar problemas con propiedades inexistentes.\n",
    "\n",
    "Es fácil: mira el código en el editor.\n",
    "\n",
    "Como puedes ver, esta acción no es muy sofisticada. Esencialmente, acabamos de barrer el tema debajo de la alfombra.\n",
    "\n",
    "Afortunadamente, hay una forma más de hacer frente al problema.\n",
    "\n",
    "Python proporciona una función que puede verificar con seguridad si algún objeto / clase contiene una propiedad específica. La función se llama hasattr, y espera que le pasen dos argumentos:\n",
    "\n",
    "    La clase o el objeto que se verifica.\n",
    "    El nombre de la propiedad cuya existencia se debe informar (Nota: debe ser una cadena que contenga el nombre del atributo).\n",
    "\n",
    "La función retorna True o False.\n",
    "\n",
    "Así es como puedes utilizarla:"
   ]
  },
  {
   "cell_type": "code",
   "execution_count": 12,
   "id": "ffda0bdc",
   "metadata": {},
   "outputs": [
    {
     "name": "stdout",
     "output_type": "stream",
     "text": [
      "1\n"
     ]
    }
   ],
   "source": [
    "class ClaseEjemplo:\n",
    "    def __init__(self, val):\n",
    "        if val % 2 != 0:\n",
    "            self.a = 1\n",
    "        else:\n",
    "            self.b = 1\n",
    "\n",
    "objetoEjemplo = ClaseEjemplo(1)\n",
    "print(objetoEjemplo.a)\n",
    "\n",
    "if hasattr(objetoEjemplo, 'b'):\n",
    "    print(objetoEjemplo.b)"
   ]
  },
  {
   "cell_type": "code",
   "execution_count": 14,
   "id": "c3c77003",
   "metadata": {},
   "outputs": [
    {
     "name": "stdout",
     "output_type": "stream",
     "text": [
      "1\n"
     ]
    }
   ],
   "source": [
    "class ClaseEjemplo:\n",
    "    def __init__(self, val):\n",
    "        if val % 2 != 0:\n",
    "            self.a = 1\n",
    "        else:\n",
    "            self.b = 1\n",
    "\n",
    "objetoEjemplo = ClaseEjemplo(1)\n",
    "print(objetoEjemplo.a)\n",
    "\n",
    "try:\n",
    "    print(objetoEjemplo.b)\n",
    "except AttributeError:\n",
    "    pass"
   ]
  },
  {
   "cell_type": "markdown",
   "id": "0898f819",
   "metadata": {},
   "source": [
    "No olvides que la función hasattr() también puede operar en clases. Puedes usarlo para averiguar si una variable de clase está disponible, como en el ejemplo en el editor.\n",
    "\n",
    "La función devuelve True si la clase especificada contiene un atributo dado, y False de lo contrario.\n",
    "\n",
    "¿Puedes adivinar la salida del código? Ejecútalo para verificar tus conjeturas.\n",
    "\n",
    "Un ejemplo más: analiza el código a continuación e intenta predecir su salida:"
   ]
  },
  {
   "cell_type": "code",
   "execution_count": 15,
   "id": "58a0bf1d",
   "metadata": {},
   "outputs": [
    {
     "name": "stdout",
     "output_type": "stream",
     "text": [
      "True\n",
      "True\n",
      "False\n",
      "True\n"
     ]
    }
   ],
   "source": [
    "class ClaseEjemplo:\n",
    "    a = 1\n",
    "    def __init__(self):\n",
    "        self.b = 2\n",
    "\n",
    "objetoEjemplo = ClaseEjemplo()\n",
    "\n",
    "print(hasattr(objetoEjemplo, 'b'))\n",
    "print(hasattr(objetoEjemplo, 'a'))\n",
    "print(hasattr(ClaseEjemplo, 'b'))\n",
    "print(hasattr(ClaseEjemplo, 'a'))"
   ]
  },
  {
   "cell_type": "markdown",
   "id": "117ef157",
   "metadata": {},
   "source": [
    "¿Tuviste éxito? Ejecuta el código para verificar tus predicciones.\n",
    "\n",
    "Bien, hemos llegado al final de esta sección. En la siguiente sección vamos a hablar sobre los métodos, ya que los métodos dirigen los objetos y los activan."
   ]
  }
 ],
 "metadata": {
  "kernelspec": {
   "display_name": "venv",
   "language": "python",
   "name": "venv"
  },
  "language_info": {
   "codemirror_mode": {
    "name": "ipython",
    "version": 3
   },
   "file_extension": ".py",
   "mimetype": "text/x-python",
   "name": "python",
   "nbconvert_exporter": "python",
   "pygments_lexer": "ipython3",
   "version": "3.10.4"
  }
 },
 "nbformat": 4,
 "nbformat_minor": 5
}
