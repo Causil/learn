{
 "cells": [
  {
   "cell_type": "markdown",
   "id": "55b28343",
   "metadata": {},
   "source": [
    "Modern Operating systems\n",
    "\n",
    "A modern computer consists of one or more processors, some main memory, disks, printers, a keyboard, a mouse, a display, network interfaces, and various other input/output devices. All in all, a complex system.oo If every application programmer had to understand how all these things work in detail, no code would ever get written. Furthermore, managing all these components and using them optimally is an exceedingly challenging job. For this reason, computers are equipped with a layer of software called the operating system, whose job is to provide user programs with a better, simpler, cleaner, model of the computer and to handle managing all the resources just mentioned. Operating systems are the subject of this book.\n",
    "\n",
    "Most readers will have had some experience with an operating system such as Windows, Linux, FreeBSD, or OS X, but appearances can be deceiving. The program that users interact with, usually called the shell when it is text based and the GUI (Graphical User Interface)—which is pronounced ‘‘gooey’’—when it uses icons, is actually not part of the operating system, although it uses the operating system to get its work done. A simple overview of the main components under discussion here is given in Fig. 1-1. Here we see the hardware at the bottom. The hardware consists of chips, boards, disks, a keyboard, a monitor, and similar physical objects. On top of the hardware is the software. Most computers have two modes of operation: kernel mode and user mode. The operating system, the most fundamental piece of software, runs in kernel mode (also called supervisor mode).\n",
    "\n",
    "<img src='data:image/png;base64,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'>\n",
    "\n",
    "What is an operating system?\n",
    "\n",
    "It is hard to pin down what an operating system is other than saying it is the\n",
    "software that runs in kernel mode—and even that is not always true. Part of the\n",
    "problem is that operating systems perform two essentially unrelated functions: \n",
    "\n",
    "providing application programmers (and application programs, naturally) a clean\n",
    "abstract set of resources instead of the messy hardware ones and managing these\n",
    "hardware resources. Depending on who is doing the talking, you might hear mostly\n",
    "about one function or the other. Let us now look at both.\n",
    "\n",
    "The Operating System as an Extended Machine\n"
   ]
  },
  {
   "cell_type": "code",
   "execution_count": null,
   "id": "11725452",
   "metadata": {},
   "outputs": [],
   "source": []
  }
 ],
 "metadata": {
  "kernelspec": {
   "display_name": "venv",
   "language": "python",
   "name": "venv"
  },
  "language_info": {
   "codemirror_mode": {
    "name": "ipython",
    "version": 3
   },
   "file_extension": ".py",
   "mimetype": "text/x-python",
   "name": "python",
   "nbconvert_exporter": "python",
   "pygments_lexer": "ipython3",
   "version": "3.10.4"
  }
 },
 "nbformat": 4,
 "nbformat_minor": 5
}
