{
 "cells": [
  {
   "cell_type": "markdown",
   "id": "7cf104b7",
   "metadata": {},
   "source": [
    "Esta url es de un curso de mahcine learning en google\n",
    "$$ \\url{https://developers.google.com/machine-learning/crash-course/prereqs-and-prework}$$"
   ]
  }
 ],
 "metadata": {
  "kernelspec": {
   "display_name": "Python 3 (ipykernel)",
   "language": "python",
   "name": "python3"
  },
  "language_info": {
   "codemirror_mode": {
    "name": "ipython",
    "version": 3
   },
   "file_extension": ".py",
   "mimetype": "text/x-python",
   "name": "python",
   "nbconvert_exporter": "python",
   "pygments_lexer": "ipython3",
   "version": "3.10.4"
  }
 },
 "nbformat": 4,
 "nbformat_minor": 5
}
