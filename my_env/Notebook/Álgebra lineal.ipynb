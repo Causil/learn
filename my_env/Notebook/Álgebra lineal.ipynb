{
 "cells": [
  {
   "cell_type": "markdown",
   "id": "352125ab",
   "metadata": {},
   "source": [
    "<h1 style='color:#2F4858'>Ecuaciones lineales</h1>"
   ]
  },
  {
   "cell_type": "markdown",
   "id": "2fc1d236",
   "metadata": {
    "raw_mimetype": "text/markdown"
   },
   "source": [
    "<p \n",
    "           style='\n",
    "           font-family:\"Roboto\";\n",
    "           font-style: normal;\n",
    "           font-weight: 400;\n",
    "           font-size: 16px;\n",
    "           line-height: 24px;\n",
    "           color: #2F4858;\n",
    "           '\n",
    ">\n",
    "Asumiremos que el lector esta familiarizado con los elementos del álgebra de los números reales y complejos.\n",
    "En una gran parte de este libro las propiedades algebraicas de números que nosotros debemos usar son faciles de deducir de la siguiente brave lista de propiedades de adición y multiplicación.\n",
    "</p>\n",
    "<p\n",
    "           style='\n",
    "           font-family: \"Roboto\";\n",
    "           font-style:     normal;\n",
    "           font-weight:    400;\n",
    "           font-size:      16px;\n",
    "           line-height:    24px;\n",
    "           color:          #2F4858;\n",
    "           '\n",
    ">\n",
    "Denotemos a F entre los conjuntos de números reales o el conjunto de números complejos.\n",
    "</p>\n",
    "<ol\n",
    "           style='\n",
    "           display:        block;\n",
    "           font-family:    \"Roboto\";\n",
    "           font-style:     normal;\n",
    "           font-weight:    400;\n",
    "           font-size:      16px;\n",
    "           line-height:    24px;\n",
    "           color:          #2F4858;\n",
    "           '\n",
    ">\n",
    "<li\n",
    "           style='\n",
    "           margin: 1em 0 1em 0;\n",
    "           '        \n",
    ">\n",
    "    La adición es conmutativa $$ x+y = y+x, \\quad\\forall x,y\\in F $$\n",
    "</li>\n",
    "<li\n",
    "           style='\n",
    "           margin: 1em 0 1em 0;\n",
    "           '    \n",
    ">\n",
    "    La adición es asociativa: \n",
    "    $$x + (y + z) = (x+y)+z, \\quad\\forall x,y,z \\in F.$$\n",
    "</li>\n",
    "<li\n",
    "           style='\n",
    "           margin: 1em 0 1em 0;\n",
    "           '    \n",
    ">\n",
    "Hay un único elemento $0$ (cero) en $F$ tal que $$x+0=x,\\quad \\forall x \\in F $$\n",
    "</li>\n",
    "<li\n",
    "           style='\n",
    "           margin: 1em 0 1em 0;\n",
    "           '    \n",
    ">\n",
    "    Para cada $x$ en $F$ hay un único elemento correspondiente $(-x)$ en $F$ tal que $$ x+(-x) = 0 $$\n",
    "</li>\n",
    "<li\n",
    "           style='\n",
    "           margin: 1em 0 1em 0;\n",
    "           '    \n",
    ">\n",
    "    La multiplicación es conmutativa $$xy=yx, \\quad\\forall x,y \\in F.$$\n",
    "</li>\n",
    "<li\n",
    "           style='\n",
    "           margin: 1em 0 1em 0;\n",
    "           '    \n",
    ">\n",
    "    La multiplicación es asociativa $$x(yx)=(xy)z, \\quad\\forall x,y,z \\in F.$$\n",
    "</li>\n",
    "<li\n",
    "    style='\n",
    "    margin: 1em 0 1em 0;\n",
    "    '    \n",
    ">\n",
    "    Hay un único elemento 1 distinto de cero en $F$ tal que $$  x1 = x,\\quad\\forall x \\in F. $$\n",
    "</li>\n",
    "<li\n",
    "    style='\n",
    "    margin: 1em 0 1em 0;\n",
    "    '    \n",
    ">\n",
    "    Para cada $x$ en $F$ distinto de cero hay un único elemento correspondiente $x^{-1}$ o $1/x$ en $F$ tal que $$xx^{-1} = 1.$$\n",
    "</li>\n",
    "<li\n",
    "           style='\n",
    "           margin: 1em 0 1em 0;\n",
    "           '    \n",
    ">\n",
    "    La multiplicación distribuye sobre la adición, es decir $$ x(y+z)=xy + xz, \\quad\\forall x,y,z \\in F. $$\n",
    "</li>\n",
    "</ol>"
   ]
  },
  {
   "cell_type": "markdown",
   "id": "b0bb5db6",
   "metadata": {},
   "source": [
    "<div\n",
    "           style='\n",
    "           display:        block;\n",
    "           font-family:    \"Roboto\";\n",
    "           font-style:     normal;\n",
    "           font-weight:    400;\n",
    "           font-size:      16px;\n",
    "           line-height:    24px;\n",
    "           color:          #2F4858;\n",
    "           '\n",
    ">\n",
    "<p>\n",
    "Suponga que tiene un conjunto de objetos $x,y,z,\\ldots$ y dos operaciones en los elementos de $F$ como sigue.  La primera operación, llamada adición, asocia con cada par de elementos $x,y$ en $F$ un elemento $(x+y)$ en $F$, es decir:\n",
    "</p>\n",
    "    <p>\n",
    "    $$ \\begin{align} \n",
    "         +: F\\times F &\\to F\\\\\n",
    "            (x,y)&\\to +(x,y)\\colon = x+y\n",
    "        \\end{align}\n",
    "    $$\n",
    "    </p>\n",
    "<p>\n",
    "La segunda operación, llamada multiplicación asocia con cada par $x,y$ un elemento $xy$ en F, es decir: \n",
    "</p>\n",
    "<p>\n",
    " $$ \n",
    " \\begin{align} \n",
    " \\cdot: F\\times F &\\to F\\\\\n",
    "        (x,y)&\\to \\cdot (x,y) \\colon = xy\n",
    " \\end{align}\n",
    " $$\n",
    "</p>\n",
    "<p> \n",
    "Estás dos operaciones satisfacen las condiciones de (1) - (9) vistas anteriormente. El conjunto $F$ junto con estás dos operaciones, es llamado un campo.\n",
    "</p>\n",
    "<p>\n",
    "Mas o menos, un campo es un conjunto junto con algunas operaciones en los objetos en ese conjunto se comportan como adición, sustración, multiplicación y división de números en el sentido en que obedecen las nueve reglas del álgebra en listadas arriba.\n",
    "</p>\n",
    "<p>\n",
    "    Con las usuales operaciones de adición y multiplicación, el conjunto $\\mathbb{C}$ de números complejos es un campo, como es el conjunto de $\\mathbb{R}$ de números reales.\n",
    "</p>\n",
    "<p>\n",
    "    Un subcampo del campo de $\\mathbb{C}$ es un conjunto $F$ de números complejos el cual es el mismo campo bajo la usual operación de adición y multiplicación de números complejos. Esto significa que $0$ y $1$ están en el conjunto $F$, también lo son $(x+y)$, $-x$, $xy$ y $x^{-1}$( si $x\\neq 0$).\n",
    "</p>\n",
    "<p>\n",
    "Un ejemplo de un tal subcampo es un campo $\\mathbb{R}$ de los números reales; si nosotros identificamos los números reales con los números complejos $(a+bi)$ donde $b=0$, el 0 y el 1 del campo complejo son números reales y si $x,y$ son reales, también lo son $(x+y)$, $-x$, $xy$ y $x^{-1} $( si $x\\neq 0$).\n",
    "</p>\n",
    "</div>"
   ]
  },
  {
   "cell_type": "code",
   "execution_count": null,
   "id": "16404b56",
   "metadata": {},
   "outputs": [],
   "source": [
    "import numpy as np\n",
    "\n",
    "dominio = np.array([1,2,3,4,5,6])\n",
    "rango = "
   ]
  },
  {
   "cell_type": "markdown",
   "id": "d0c0f3d5",
   "metadata": {},
   "source": [
    "Métodos en Numpy \n",
    "\n",
    "En esta sección estudiaremos los métodos reshape, concatenate, split, search, sort, filter "
   ]
  },
  {
   "cell_type": "code",
   "execution_count": 7,
   "id": "0be22313",
   "metadata": {},
   "outputs": [
    {
     "name": "stdout",
     "output_type": "stream",
     "text": [
      "[1 2]\n"
     ]
    }
   ],
   "source": [
    "import numpy as np\n",
    "\n",
    "x = np.array([1,2])\n",
    "\n",
    "print(x)"
   ]
  },
  {
   "cell_type": "markdown",
   "id": "d4b2a307",
   "metadata": {},
   "source": [
    "Shape de un arreglo \n",
    "\n",
    "Un array o arreglo de numpy tiene un atributo llamado shape que retorna una tupla donde cada\n",
    "indice tiene el numero correspondiente de elementos, ejemplo:"
   ]
  },
  {
   "cell_type": "code",
   "execution_count": 8,
   "id": "002c60ad",
   "metadata": {},
   "outputs": [
    {
     "name": "stdout",
     "output_type": "stream",
     "text": [
      "(2, 4)\n"
     ]
    }
   ],
   "source": [
    "arr = np.array([[1, 2, 3, 4], [5, 6, 7, 8]])\n",
    "print(arr.shape)"
   ]
  },
  {
   "cell_type": "markdown",
   "id": "64fd70f1",
   "metadata": {},
   "source": [
    "La tupla, nos índica que tenemos un array de 2-D con 2 elementos de 1-D y cada uno tiene 4 elementos de 0-D."
   ]
  },
  {
   "cell_type": "code",
   "execution_count": 13,
   "id": "bf4ecd5c",
   "metadata": {},
   "outputs": [
    {
     "name": "stdout",
     "output_type": "stream",
     "text": [
      "[[[[[1 2 3 4]]]]]\n"
     ]
    }
   ],
   "source": [
    "arr = np.array([1, 2, 3, 4], ndmin=5)\n",
    "print(arr)"
   ]
  },
  {
   "cell_type": "code",
   "execution_count": null,
   "id": "97b8ab7e",
   "metadata": {},
   "outputs": [],
   "source": []
  }
 ],
 "metadata": {
  "celltoolbar": "Raw Cell Format",
  "kernelspec": {
   "display_name": "Python 3 (ipykernel)",
   "language": "python",
   "name": "python3"
  },
  "language_info": {
   "codemirror_mode": {
    "name": "ipython",
    "version": 3
   },
   "file_extension": ".py",
   "mimetype": "text/x-python",
   "name": "python",
   "nbconvert_exporter": "python",
   "pygments_lexer": "ipython3",
   "version": "3.10.4"
  }
 },
 "nbformat": 4,
 "nbformat_minor": 5
}
