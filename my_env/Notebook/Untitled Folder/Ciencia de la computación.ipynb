{
 "cells": [
  {
   "cell_type": "markdown",
   "id": "e4ba03d4",
   "metadata": {},
   "source": [
    "¿Qué es la computación?\n",
    "\n",
    "¿Qué cosas tiene de bueno el ser humano frente al computador?\n",
    "\n",
    "Inteligencía, es lento el ser humano, \n",
    "\n",
    "desventajas de\n",
    "\n",
    "El computador no piensa, es medio bruto, accelera cosas, es velocidad de procesamiento, , "
   ]
  }
 ],
 "metadata": {
  "kernelspec": {
   "display_name": "venv",
   "language": "python",
   "name": "venv"
  },
  "language_info": {
   "codemirror_mode": {
    "name": "ipython",
    "version": 3
   },
   "file_extension": ".py",
   "mimetype": "text/x-python",
   "name": "python",
   "nbconvert_exporter": "python",
   "pygments_lexer": "ipython3",
   "version": "3.10.4"
  }
 },
 "nbformat": 4,
 "nbformat_minor": 5
}
