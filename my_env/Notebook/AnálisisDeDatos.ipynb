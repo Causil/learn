{
 "cells": [
  {
   "cell_type": "markdown",
   "id": "5e41fa7b",
   "metadata": {},
   "source": [
    "<h1> Visualización de datos con python </h1>\n",
    "<p>\n",
    "¿Que es python-plotly-dash?\n",
    "</p>\n",
    "\n",
    "\n",
    "\n"
   ]
  },
  {
   "cell_type": "markdown",
   "id": "3a354a40",
   "metadata": {},
   "source": [
    "<h2> Python es: </h2>\n",
    "<ol>\n",
    "<li>\n",
    "Lenguaje de programación orientado a objetos de alto nivel y de propósito general. Este va a ser el elnduaje utilizado para poder crear toda la visualización e interactivas y nuestro dashboard online con Dash.\n",
    "</li>\n",
    "<li>\n",
    "    Python se basa en la simpleza por lo cual nos facilita el aprendizaje.\n",
    "</li>\n",
    "<li>\n",
    "    Soporta módulos y librerías que favorecen la reutilización de código.\n",
    "</li>\n",
    "<li>\n",
    "    Es un lenguaje interpretado, se ejecuta el código línea a línea. No hay un paso de compilación como en otros lenguajes es decir de rápida ejecución.\n",
    "</li>    \n",
    "<li>\n",
    "Es open source y multiplataforma (Windows, Linux, Mac, ...)\n",
    "</li>    \n",
    "</ol>\n"
   ]
  },
  {
   "cell_type": "markdown",
   "id": "a5169b6e",
   "metadata": {},
   "source": [
    "<h2>\n",
    "    Plotly: \n",
    "</h2>\n",
    "<ol>\n",
    "<li> \n",
    "    Es una libbrería de visualización interactiva.\n",
    "</li>    \n",
    "<li> \n",
    "    Open source.\n",
    "</li>    \n",
    "<li> \n",
    "    Extensa documentación en <a href=\"https://plotly.com/python/\"> Ploty/python </a>\n",
    "</li>\n",
    "<li> \n",
    "    Infinidad de gráficos. \n",
    "</li>\n",
    "<li> \n",
    "    El resultado de cualquier visualización de plotly va hacer un fichero HTML, que vamos a poder renderizar en cualquier navegador web. Esta utilidad nos va hacer útil para utilizarla en Dash.\n",
    "</li>\n",
    "</ol>\n"
   ]
  },
  {
   "cell_type": "markdown",
   "id": "e787eefb",
   "metadata": {},
   "source": [
    "<h2>\n",
    "    Dash: \n",
    "</h2>\n",
    "<ol>\n",
    "<li> \n",
    "    Librería utilizada para crear dashboards de manera nativa en Python.\n",
    "</li>    \n",
    "<li> \n",
    "    Los dashboards son desplegados en un servidor como aplicaciones web, no como ficheros estáticos HTML.\n",
    "</li>    \n",
    "<li> \n",
    "    Ofrecen la posibilidad de interactuar entre los diferentes elementos del dashboard para un comportamiento dinámico.\n",
    "</li>\n",
    "<li> \n",
    "    Infinidad de gráficos. \n",
    "</li>\n",
    "<li> \n",
    "    El resultado de cualquier visualización de plotly va hacer un fichero HTML, que vamos a poder renderizar en cualquier navegador web. Esta utilidad nos va hacer útil para utilizarla en Dash.\n",
    "</li>\n",
    "</ol>"
   ]
  },
  {
   "cell_type": "code",
   "execution_count": null,
   "id": "a14e9464",
   "metadata": {},
   "outputs": [],
   "source": []
  }
 ],
 "metadata": {
  "kernelspec": {
   "display_name": "Python 3 (ipykernel)",
   "language": "python",
   "name": "python3"
  },
  "language_info": {
   "codemirror_mode": {
    "name": "ipython",
    "version": 3
   },
   "file_extension": ".py",
   "mimetype": "text/x-python",
   "name": "python",
   "nbconvert_exporter": "python",
   "pygments_lexer": "ipython3",
   "version": "3.10.6"
  }
 },
 "nbformat": 4,
 "nbformat_minor": 5
}
