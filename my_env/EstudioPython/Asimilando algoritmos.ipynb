{
 "cells": [
  {
   "cell_type": "markdown",
   "id": "187cac92",
   "metadata": {},
   "source": [
    "<section>\n",
    "    <h1> Introducción a algoritmos </h1>\n",
    "</section>"
   ]
  },
  {
   "cell_type": "markdown",
   "id": "cfabe694",
   "metadata": {},
   "source": [
    "<section>\n",
    "<h2 style='color:#C11717'> En este capítulo </h2>\n",
    "<ul style='font-size:px'>  \n",
    "    <li> Obtendras los fundamentos para el resto del libro </li>\n",
    "    <li> Escribiras tu primer algoritmo de busqueda </li>\n",
    "    <li> Aprenderas a hablar sobre el tiempo de ejecución de un algoritmo (notación Big O) </li>\n",
    "    <li> Te introducimos a un técnica común para el diseño de algoritmos(recursión)</li>\n",
    "</ul>\n",
    "<div>\n",
    "    <h3 style='color:#C11717'> Introducción </h3>\n",
    "    <p>\n",
    "      Un algoritmo es un conjunto de instrucciones para lograr una tarea. Cada pieza de código \n",
    "      podría ser llamada un algoritmo, pero este libro cubre las partes más interesantes.\n",
    "      Elegí los algoritmos en este libro por que son rápidos, o solucionan problemas interesantes, \n",
    "      o ambas cosas. Aquí unos aspectos destacados:\n",
    "    </p> \n",
    "    <ul>\n",
    "        <li>\n",
    "              El cápitulo 1, habla sobre la busqueda binaria y como un algoritmo puede acelerar su código.\n",
    "              En un ejemplo, el número de etapas necesarias va desde 4 billones a 32!\n",
    "        </li>\n",
    "        <li>\n",
    "              Un dispositivo GPS usa algoritmos gráficos (como aprendera en los cápitulos 6, 7 y 8) para\n",
    "              calcular la ruta más corta a su destino.\n",
    "        </li>\n",
    "        <li>\n",
    "              Tu puedes usar programación dinámica (lo discutimos en el cápitulo 9) para un algoritmo\n",
    "              de inteligencía artifícial que juega a las damas. \n",
    "        </li>\n",
    "      </ul>\n",
    "      <p>\n",
    "          En cada caso, describiré el algoritmo y daré un ejemplo. Entonces hablaremos sobre el tiempo\n",
    "          de ejecución de un algoritmo en notación Big O. Finalmente, exploraré que otros tipos de problemas \n",
    "          podría solucionar con el mismo algoritmo. \n",
    "      </p>\n",
    "      <h3> \n",
    "          Qué aprenderas sobre el rendimineto?               \n",
    "      </h3>\n",
    "      <p> \n",
    "          La buena noticia es, una implementación de cada algoritmo en este libro esta probablemente \n",
    "          disponible en tu lenguaje favorito, necesariamente no tienes que escribir cada algoritmo tu mismo!\n",
    "          Pero esas implementaciones con inútiles si no comprende las compensaciones. En este libro, \n",
    "          aprenderá a comparar las ventajas y desventajas entre diferentes algoritmos: debería usar la \n",
    "          ordenación por combinación o la ordenación rápida? Deberías usar una matriz o una lista? El simple \n",
    "          hecho de usar una estructura de datos diferente puede marcar una gran diferencia.\n",
    "      </p>\n",
    "      <h3> Qué aprenderas sobre la resolución de problemas </h3>\n",
    "      <p>\n",
    "          Aprenderá técnicas para resolver problemas que podrián estar fuera de su alcance hasta ahora.\n",
    "          Por ejemplo:\n",
    "      </p>\n",
    "      <ul>\n",
    "          <li> \n",
    "              Si te gusta hacer vídeo juegos, tu puedes escribir un sistema de IA \n",
    "              que siga al usuario arededor utilizando algoritmos gráficos.\n",
    "          </li>\n",
    "          <li>\n",
    "              Aprenderás\n",
    "          </li>\n",
    "      </ul>\n",
    "</div>\n",
    "</section>"
   ]
  },
  {
   "cell_type": "code",
   "execution_count": null,
   "id": "7c28ab35",
   "metadata": {},
   "outputs": [],
   "source": []
  },
  {
   "cell_type": "code",
   "execution_count": null,
   "id": "9b4b3bf2",
   "metadata": {},
   "outputs": [],
   "source": []
  },
  {
   "cell_type": "code",
   "execution_count": null,
   "id": "2c4c3c06",
   "metadata": {},
   "outputs": [],
   "source": []
  },
  {
   "cell_type": "code",
   "execution_count": null,
   "id": "3dccb243",
   "metadata": {},
   "outputs": [],
   "source": []
  },
  {
   "cell_type": "code",
   "execution_count": null,
   "id": "4770dddd",
   "metadata": {},
   "outputs": [],
   "source": []
  },
  {
   "cell_type": "code",
   "execution_count": null,
   "id": "a7132797",
   "metadata": {},
   "outputs": [],
   "source": []
  }
 ],
 "metadata": {
  "kernelspec": {
   "display_name": "venv",
   "language": "python",
   "name": "venv"
  },
  "language_info": {
   "codemirror_mode": {
    "name": "ipython",
    "version": 3
   },
   "file_extension": ".py",
   "mimetype": "text/x-python",
   "name": "python",
   "nbconvert_exporter": "python",
   "pygments_lexer": "ipython3",
   "version": "3.10.4"
  }
 },
 "nbformat": 4,
 "nbformat_minor": 5
}
