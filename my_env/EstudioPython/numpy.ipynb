{
 "cells": [
  {
   "cell_type": "markdown",
   "id": "d0c0f3d5",
   "metadata": {},
   "source": [
    "Métodos en Numpy \n",
    "\n",
    "En esta sección estudiaremos los métodos reshape, concatenate, split, search, sort, filter "
   ]
  },
  {
   "cell_type": "code",
   "execution_count": 7,
   "id": "0be22313",
   "metadata": {},
   "outputs": [
    {
     "name": "stdout",
     "output_type": "stream",
     "text": [
      "[1 2]\n"
     ]
    }
   ],
   "source": [
    "import numpy as np\n",
    "\n",
    "x = np.array([1,2])\n",
    "\n",
    "print(x)"
   ]
  },
  {
   "cell_type": "markdown",
   "id": "d4b2a307",
   "metadata": {},
   "source": [
    "Shape de un arreglo \n",
    "\n",
    "Un array o arreglo de numpy tiene un atributo llamado shape que retorna una tupla donde cada\n",
    "indice tiene el numero correspondiente de elementos, ejemplo:"
   ]
  },
  {
   "cell_type": "code",
   "execution_count": 8,
   "id": "002c60ad",
   "metadata": {},
   "outputs": [
    {
     "name": "stdout",
     "output_type": "stream",
     "text": [
      "(2, 4)\n"
     ]
    }
   ],
   "source": [
    "arr = np.array([[1, 2, 3, 4], [5, 6, 7, 8]])\n",
    "print(arr.shape)"
   ]
  },
  {
   "cell_type": "markdown",
   "id": "64fd70f1",
   "metadata": {},
   "source": [
    "La tupla, nos índica que tenemos un array de 2-D con 2 elementos de 1-D y cada uno tiene 4 elementos de 0-D."
   ]
  },
  {
   "cell_type": "code",
   "execution_count": 13,
   "id": "bf4ecd5c",
   "metadata": {},
   "outputs": [
    {
     "name": "stdout",
     "output_type": "stream",
     "text": [
      "[[[[[1 2 3 4]]]]]\n"
     ]
    }
   ],
   "source": [
    "arr = np.array([1, 2, 3, 4], ndmin=5)\n",
    "print(arr)"
   ]
  },
  {
   "cell_type": "code",
   "execution_count": null,
   "id": "97b8ab7e",
   "metadata": {},
   "outputs": [],
   "source": []
  }
 ],
 "metadata": {
  "celltoolbar": "Raw Cell Format",
  "kernelspec": {
   "display_name": "Python 3 (ipykernel)",
   "language": "python",
   "name": "python3"
  },
  "language_info": {
   "codemirror_mode": {
    "name": "ipython",
    "version": 3
   },
   "file_extension": ".py",
   "mimetype": "text/x-python",
   "name": "python",
   "nbconvert_exporter": "python",
   "pygments_lexer": "ipython3",
   "version": "3.10.4"
  }
 },
 "nbformat": 4,
 "nbformat_minor": 5
}
