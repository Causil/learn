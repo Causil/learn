{
 "cells": [
  {
   "cell_type": "markdown",
   "id": "2a1825ac",
   "metadata": {},
   "source": [
    "<h1>Ecuaciones lineales</h1>"
   ]
  },
  {
   "cell_type": "markdown",
   "id": "a129b6a4",
   "metadata": {
    "raw_mimetype": "text/markdown"
   },
   "source": [
    "Asumiremos que el lector esta familiarizado con los elementos del álgebra de los números reales y complejos.\n",
    "Enuna gran parte de este libro las propiedades algebraicas de números que nosotros debemos usar son faciles de deducir de la siguiente brave lista de propiedades de adición y multiplicación.\n",
    "\n",
    "Denotemos a F entre los conjuntos de números reales o el conjunto de números complejos.\n",
    "<ul>\n",
    "<l>\n",
    "    La adición es conmutativa $$ x+y = y+x, \\quad\\forall x,y\\in F $$\n",
    "</l>\n",
    "<li>\n",
    "    La adición es asociativa: \n",
    "    $$x + (y + z) = (x+y)+z, \\quad\\forall x,y,z \\in F.$$\n",
    "</li>\n",
    "<li>\n",
    "Hay un único elemento $0$ (cero) en $F$ tal que $$x+0=x,\\quad \\forall x \\in F $$\n",
    "</li>\n",
    "<li>\n",
    "    La multiplicación es conmutativa $$xy=yx, \\quad\\forall x,y \\in F.$$\n",
    "</li>\n",
    "<li>\n",
    "    La multiplicación es asociativa $$x(yx)=(xy)z, \\quad\\forall x,y,z \\in F.$$\n",
    "</li>\n",
    "<li>\n",
    "    Hay un único elemento 1 distinto de cero en $F$ tal que $$  x1 = x,\\quad\\forall x \\in F. $$\n",
    "</li>\n",
    "<li>\n",
    "    Para cada $x$ en $F$ distinto de cero hay un único elemento correspondiente $x^{-1}$ o $1/x$ en $F$ tal que $$xx^{-1} = 1.$$\n",
    "</li>\n",
    "</ul>"
   ]
  },
  {
   "cell_type": "markdown",
   "id": "d0c0f3d5",
   "metadata": {},
   "source": [
    "Métodos en Numpy \n",
    "\n",
    "En esta sección estudiaremos los métodos reshape, concatenate, split, search, sort, filter "
   ]
  },
  {
   "cell_type": "code",
   "execution_count": 7,
   "id": "0be22313",
   "metadata": {},
   "outputs": [
    {
     "name": "stdout",
     "output_type": "stream",
     "text": [
      "[1 2]\n"
     ]
    }
   ],
   "source": [
    "import numpy as np\n",
    "\n",
    "x = np.array([1,2])\n",
    "\n",
    "print(x)"
   ]
  },
  {
   "cell_type": "markdown",
   "id": "d4b2a307",
   "metadata": {},
   "source": [
    "Shape de un arreglo \n",
    "\n",
    "Un array o arreglo de numpy tiene un atributo llamado shape que retorna una tupla donde cada\n",
    "indice tiene el numero correspondiente de elementos, ejemplo:"
   ]
  },
  {
   "cell_type": "code",
   "execution_count": 8,
   "id": "002c60ad",
   "metadata": {},
   "outputs": [
    {
     "name": "stdout",
     "output_type": "stream",
     "text": [
      "(2, 4)\n"
     ]
    }
   ],
   "source": [
    "arr = np.array([[1, 2, 3, 4], [5, 6, 7, 8]])\n",
    "print(arr.shape)"
   ]
  },
  {
   "cell_type": "markdown",
   "id": "64fd70f1",
   "metadata": {},
   "source": [
    "La tupla, nos índica que tenemos un array de 2-D con 2 elementos de 1-D y cada uno tiene 4 elementos de 0-D."
   ]
  },
  {
   "cell_type": "code",
   "execution_count": 13,
   "id": "bf4ecd5c",
   "metadata": {},
   "outputs": [
    {
     "name": "stdout",
     "output_type": "stream",
     "text": [
      "[[[[[1 2 3 4]]]]]\n"
     ]
    }
   ],
   "source": [
    "arr = np.array([1, 2, 3, 4], ndmin=5)\n",
    "print(arr)"
   ]
  },
  {
   "cell_type": "code",
   "execution_count": null,
   "id": "97b8ab7e",
   "metadata": {},
   "outputs": [],
   "source": []
  }
 ],
 "metadata": {
  "celltoolbar": "Raw Cell Format",
  "kernelspec": {
   "display_name": "Python 3 (ipykernel)",
   "language": "python",
   "name": "python3"
  },
  "language_info": {
   "codemirror_mode": {
    "name": "ipython",
    "version": 3
   },
   "file_extension": ".py",
   "mimetype": "text/x-python",
   "name": "python",
   "nbconvert_exporter": "python",
   "pygments_lexer": "ipython3",
   "version": "3.10.4"
  }
 },
 "nbformat": 4,
 "nbformat_minor": 5
}
