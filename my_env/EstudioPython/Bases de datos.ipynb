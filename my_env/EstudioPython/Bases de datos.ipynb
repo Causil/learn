{
 "cells": [
  {
   "cell_type": "markdown",
   "id": "caca030a",
   "metadata": {},
   "source": [
    "PostgreSQL\n",
    "\n",
    "<a href='https://www.postgresql.org/docs/current/' >Documentación<a>\n",
    "\n",
    "Concepto de lenguajes de datos: \n",
    "\n",
    "El motor de base de datos mas popular del mundo.\n",
    "\n",
    "Lenguaje:  Lo que permite agregar información o realizar querys en una base de datos. Ejemplo SQL\n",
    "\n",
    "Motor: Permite estructurar la información dentro de un servidor. Ejemplo: postgreSQL, MySQL.\n",
    "\n",
    "Servidor: Un equipo el cual tiene una memoría y una ram para que funcione el motor de la base de datos.\n",
    "\n",
    "Open Source: Un equipo el cual tiene una memoría y una ram para que funcione el motor de base de datos.\n",
    "\n",
    "Objeto Relacional: Se programa teniendo como referencia también la programación orientada a objetos por temas como la herencia.\n",
    "\n",
    "PostGIS: plugin para recibir información de sistemas información geográfica.\n",
    "\n",
    "PL/PgSQL: Lenguaje backend interno del motor de base de datos.\n",
    "\n",
    "Cumple ACID: Cantidad de reglas que deben cumplir las bases de datos para garantizar buenas practicas.\n",
    "    \n",
    "A: Atomicity: Puedo separar las funciones programadas para la base de datos en pequeñas tareas y desarrolladas como un todo de modo que cuando ejecutas todas las tareas pero si alguna de ellas falla se hace un rolback, o se deshacen los cambios de cada una de las que se habian pasado. \n",
    "    \n",
    "C: Consistency: Todo lo que se desarrollo entorno al objeto relacional en el que tu puedes tener dos tablas que están relacionadas con llaves primarias, llaves foráneas.\n",
    "\n",
    "I: Isolation: (Aislamiento) Puedes tener varias tareas ejecutandose al mismo tiempo \n",
    "    dentro de la base de datos, puedes tener consultas y al mismo tiempo tener modificaciones desde una tabla diferente,  puedes tener roles diferentes accediendo a la base de datos. Es decir puedes tener aisladas las funciones que se ejecutan dentro de la base de datos.\n",
    "    \n",
    "    \n",
    "D: Durability: (Durabilidad) Puedes tener la seguridad de que la información no se va a perder. Digamos que el servidor donde estaba corriendo, se apagó durante una inserción, esa información no se va a perder por que postgreSQL uso un sustema en el guarda la información en una bitácora y luego hace el cambio efectivo en la base de datos. \n",
    " \n",
    "<img src='https://static.platzi.com/media/user_upload/myimag-2df74ee2-eb6d-44ff-902f-c1aeae8f0b70.jpg'>\n"
   ]
  },
  {
   "cell_type": "markdown",
   "id": "451f751b",
   "metadata": {},
   "source": [
    "Instalación en ubuntu de <a href='https://www.postgresql.org/download/linux/ubuntu/'>postgresql<a> y <a href='https://www.pgadmin.org/download/pgadmin-4-apt/'>pgAdmin4<a>: \n",
    "    \n",
    "\n",
    "Para iniciar postgresql desde la términal <h5>sudo -u postgres psql</h5>\n",
    "    \n",
    "Resumen:\n",
    "    \n",
    "    ENTRAR A LA CONSOLA DE POSTGRES\n",
    "    psql -U postgres -W\n",
    "    VER LOS COMANDOS \\ DE POSTGRES\n",
    "    \\?\n",
    "    LISTAR TODAS LAS BASES DE DATOS\n",
    "    \\l\n",
    "    VER LAS TABLAS DE UNA BASE DE DATOS\n",
    "    \\dt\n",
    "    CAMBIAR A OTRA BD\n",
    "    \\c nombre_BD\n",
    "    DESCRIBIR UNA TABLA\n",
    "    \\d nombre_tabla\n",
    "    VER TODOS LOS COMANDOS SQL\n",
    "    \\h\n",
    "    VER COMO SE EJECTUA UN COMANDO SQL\n",
    "    \\h nombre_de_la_funcion\n",
    "    CANCELAR TODO LO QUE HAY EN PANTALLA\n",
    "    Ctrl + C\n",
    "    VER LA VERSION DE POSTGRES INSTALADA, IMPORTANTE PONER EL ';'\n",
    "    SELECT version();\n",
    "    VOLVER A EJECUTAR LA FUNCION REALIADA ANTERIORMENTE\n",
    "    \\g\n",
    "    INICIALIZAR EL CONTADOR DE TIEMPO PARA QUE LA CONSOLA TE DIGA EN CADA EJECUCION ¿CUANTO DEMORO EN EJECUTAR ESA FUNCION?\n",
    "    \\timing\n",
    "    LIMPIAR PANTALLA DE LA CONSOLA PSQL\n",
    "    Ctrl + L\n"
   ]
  },
  {
   "cell_type": "markdown",
   "id": "e12081fa",
   "metadata": {},
   "source": []
  },
  {
   "cell_type": "code",
   "execution_count": null,
   "id": "f858dd4b",
   "metadata": {},
   "outputs": [],
   "source": []
  },
  {
   "cell_type": "code",
   "execution_count": null,
   "id": "35fa8be3",
   "metadata": {},
   "outputs": [],
   "source": []
  },
  {
   "cell_type": "code",
   "execution_count": null,
   "id": "5e01bcb4",
   "metadata": {},
   "outputs": [],
   "source": []
  },
  {
   "cell_type": "code",
   "execution_count": null,
   "id": "3973c3f8",
   "metadata": {},
   "outputs": [],
   "source": []
  },
  {
   "cell_type": "code",
   "execution_count": null,
   "id": "65691263",
   "metadata": {},
   "outputs": [],
   "source": []
  },
  {
   "cell_type": "code",
   "execution_count": null,
   "id": "375299da",
   "metadata": {},
   "outputs": [],
   "source": []
  },
  {
   "cell_type": "code",
   "execution_count": null,
   "id": "ef76778a",
   "metadata": {},
   "outputs": [],
   "source": []
  },
  {
   "cell_type": "code",
   "execution_count": null,
   "id": "d51801cf",
   "metadata": {},
   "outputs": [],
   "source": []
  },
  {
   "cell_type": "code",
   "execution_count": null,
   "id": "a48717ef",
   "metadata": {},
   "outputs": [],
   "source": []
  },
  {
   "cell_type": "code",
   "execution_count": null,
   "id": "97d48a0c",
   "metadata": {},
   "outputs": [],
   "source": []
  },
  {
   "cell_type": "code",
   "execution_count": null,
   "id": "f97d4e4e",
   "metadata": {},
   "outputs": [],
   "source": []
  },
  {
   "cell_type": "code",
   "execution_count": null,
   "id": "f75a1302",
   "metadata": {},
   "outputs": [],
   "source": []
  },
  {
   "cell_type": "code",
   "execution_count": null,
   "id": "7c12dba4",
   "metadata": {},
   "outputs": [],
   "source": []
  }
 ],
 "metadata": {
  "kernelspec": {
   "display_name": "venv",
   "language": "python",
   "name": "venv"
  },
  "language_info": {
   "codemirror_mode": {
    "name": "ipython",
    "version": 3
   },
   "file_extension": ".py",
   "mimetype": "text/x-python",
   "name": "python",
   "nbconvert_exporter": "python",
   "pygments_lexer": "ipython3",
   "version": "3.10.4"
  }
 },
 "nbformat": 4,
 "nbformat_minor": 5
}
