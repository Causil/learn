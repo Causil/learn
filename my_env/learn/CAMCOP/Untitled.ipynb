{
 "cells": [
  {
   "cell_type": "markdown",
   "id": "8549fb31",
   "metadata": {},
   "source": [
    "<h1> Tablas Dinámicas </h1>"
   ]
  },
  {
   "cell_type": "markdown",
   "id": "d6471644",
   "metadata": {},
   "source": [
    "<h1> ¿Qué es una tabla dinámica en Excel?  </h1>\n",
    "<div>\n",
    "    <p>\n",
    "    La tabla dinámica es una herramienta que sirve para resumir una tabla que se encuentra en una hoja de cálculo. \n",
    "    </p>\n",
    "    <p>\n",
    "    Permite hallar fácilmente información qie no es visible a primera vista. Esto nos permite tomar importantes decisiones.\n",
    "    </p>\n",
    "    \n",
    "    <p> \n",
    "    Por ejemplo: récord de ventas, costos globales, comportamiento del personal, etc.\n",
    "    </p>\n",
    "    \n",
    "</div>"
   ]
  }
 ],
 "metadata": {
  "kernelspec": {
   "display_name": "venv",
   "language": "python",
   "name": "venv"
  },
  "language_info": {
   "codemirror_mode": {
    "name": "ipython",
    "version": 3
   },
   "file_extension": ".py",
   "mimetype": "text/x-python",
   "name": "python",
   "nbconvert_exporter": "python",
   "pygments_lexer": "ipython3",
   "version": "3.10.6"
  }
 },
 "nbformat": 4,
 "nbformat_minor": 5
}
