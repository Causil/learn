{
 "cells": [
  {
   "cell_type": "markdown",
   "id": "11c711c6",
   "metadata": {},
   "source": [
    "<h1\n",
    "    style='color:#2F4858'\n",
    "> Tablas Dinámicas </h1>"
   ]
  },
  {
   "cell_type": "markdown",
   "id": "ad895621",
   "metadata": {},
   "source": [
    "<h1\n",
    "    style='color:#2F4858'\n",
    "> ¿Qué es una tabla dinámica en Excel?  </h1>\n",
    "<div\n",
    "style='\n",
    "           font-family: \"Roboto\";\n",
    "           font-style:  normal;\n",
    "           font-weight: 400;\n",
    "           font-size:   16px;\n",
    "           line-height: 24px;\n",
    "           color:       #2F4858;\n",
    "           '         \n",
    ">\n",
    "<p>\n",
    "    La tabla dinámica es una herramienta que sirve para resumir una tabla que se encuentra en una hoja de cálculo. \n",
    "</p>\n",
    "<p>\n",
    "    Permite hallar fácilmente información qie no es visible a primera vista. Esto nos permite tomar importantes decisiones.\n",
    "</p>\n",
    "    \n",
    "<p> \n",
    "    Por ejemplo: récord de ventas, costos globales, comportamiento del personal, etc.\n",
    "</p>\n",
    "<p>\n",
    "    Las tablas dinámicas nos permiten crear diferentes vistas de los datos de acuerdo a las variables que deseemos integrar. Con una tabla dinámica tendremos una gran cantidad de posibilidades de comparación de manera que podremos hacer un análisis  muy exhautisvo de la inofrmación sin necesidad de estar creando reportes individuales.\n",
    "</p>\n",
    "<p>\n",
    "    Las tablas dnámicas nos permiten resumir los datos y hacer comnparaciones distintas entre cada uno de los resultados. Es posible también crear tablas dinámicas basadas en multiples hojas de Excel lo cual nos permite análizar fácilmente la información sin necesidad de integrar todos lo datos en una sola tabla.\n",
    "</p>\n",
    "</div>"
   ]
  },
  {
   "cell_type": "markdown",
   "id": "e1cf4b09",
   "metadata": {},
   "source": [
    "<h3> Elementos que componen una tabla dinámica </h3>\n",
    "<div>\n",
    "<p> Estructura base de la tabla dinámica </p>\n",
    "<ol>\n",
    "<li> Una base de datos\n",
    "<p> Es el elemento inical del cual se va a extraer la información para crear la tabla dinámica.\n",
    "    Es preferible, antes de crear la tabla dinámica, darle a la base de datos un formato de tabla.\n",
    "</p>\n",
    "</li>\n",
    "<li>\n",
    "    El área para la tabla dinámica\n",
    "<p> Esta área puede ubicarse en la misma hoja donde se encuentra la base de datoso en cualquier otra hoja. </p>\n",
    "</li>\n",
    "<li>\n",
    "    Es el área donde controlamos el diseño de la tabla dinámica.\n",
    "<p> Esta área puede ubicarse en la misma hoja donde se encuentra la base de datoso en cualquier otra hoja. </p>\n",
    "</li>    \n",
    "<li>   </li>   \n",
    "</ol>\n",
    "<h4>Gráfico dinámico</h4>\n",
    "<p>\n",
    "Permite diseñar una representación gráfica a partir de la información que se encuentra en una tabla dinámica.\n",
    "    \n",
    "El gráfico dinámico es muy similar a un gráfico que se emplea en una tabla normal. Puede ser de varias formas: columnas, barras, líneas, circular, etc.\n",
    "</p>\n",
    "    \n",
    "<h4>Cuadro de segmentación</h4>\n",
    "<p>Cómo su nombre lo dice, nos permite segmentar la información que se encuentra en una tabla dinámica. Es una alternativa a los filtros normales de una tabla dinámica. \n",
    "</p>\n",
    "<h4> Escala de tiempo </h4>\n",
    "<p>\n",
    "La escala de tiempo es también un cuadro de segmentación pero aplicado a un campo de fechas u horas. Permite segmentar períodos de tiempo.\n",
    "</p>\n",
    "<p>\n",
    "Es también un cuadro de segmentación pero aplicado a un campo de fechas u horas. Permite segmentar períodos de tiempo.\n",
    "</p>\n",
    "</div>"
   ]
  },
  {
   "cell_type": "code",
   "execution_count": null,
   "id": "75daa42c",
   "metadata": {},
   "outputs": [],
   "source": []
  }
 ],
 "metadata": {
  "kernelspec": {
   "display_name": "venv",
   "language": "python",
   "name": "venv"
  },
  "language_info": {
   "codemirror_mode": {
    "name": "ipython",
    "version": 3
   },
   "file_extension": ".py",
   "mimetype": "text/x-python",
   "name": "python",
   "nbconvert_exporter": "python",
   "pygments_lexer": "ipython3",
   "version": "3.10.6"
  }
 },
 "nbformat": 4,
 "nbformat_minor": 5
}
