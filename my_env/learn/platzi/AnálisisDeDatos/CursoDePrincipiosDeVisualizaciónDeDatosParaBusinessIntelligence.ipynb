{
 "cells": [
  {
   "cell_type": "markdown",
   "id": "18ca7471",
   "metadata": {},
   "source": [
    "<h1\n",
    "style='color:#2F4858'\n",
    "> Curso de Principios de Visualización de Datos para Business Intelligence </h1>"
   ]
  },
  {
   "cell_type": "markdown",
   "id": "24fb461b",
   "metadata": {},
   "source": [
    "<h3>Conocimientos previos</h3>\n",
    "<div \n",
    "style='\n",
    "           font-family: \"Roboto\";\n",
    "           font-style:  normal;\n",
    "           font-weight: 400;\n",
    "           font-size:   16px;\n",
    "           line-height: 24px;\n",
    "           color:       #2F4858;\n",
    "           '      \n",
    ">\n",
    "    <ol>\n",
    "        <li>Estadística: Correlació, tendencia, outliers y promedio.</li>\n",
    "        <li>Conocimientos básicos de Excel</li>\n",
    "    </ol>\n",
    "</div>"
   ]
  },
  {
   "cell_type": "markdown",
   "id": "68e20107",
   "metadata": {},
   "source": [
    "<h3> Para desarrollar este curso y sacarle el mayor provecho voy realizar las visualizaciónes en diferentes entornos </h3>\n",
    "<div\n",
    "style='\n",
    "           font-family: \"Roboto\";\n",
    "           font-style:  normal;\n",
    "           font-weight: 400;\n",
    "           font-size:   16px;\n",
    "           line-height: 24px;\n",
    "           color:       #2F4858;\n",
    "           '           \n",
    ">\n",
    "<ul>\n",
    "    <li> Calc y Excel preferible mente calc ya que tengo Ubuntu </li>\n",
    "    <li> GoogleStudio </li>\n",
    "    <li> Python utilizando Plotly y Dash </li>\n",
    "    <li> Power Bi y Tableu </li>\n",
    "</ul>\n",
    "<p>  Creo que interactuando con estás herramientas podre crear suficientes proyectos para mostrar y poder avanzar en el análisis de datos.</p>\n",
    "</div>"
   ]
  },
  {
   "cell_type": "markdown",
   "id": "b2ed62a9",
   "metadata": {},
   "source": [
    "<div\n",
    "style='\n",
    "           font-family: \"Roboto\";\n",
    "           font-style:  normal;\n",
    "           font-weight: 400;\n",
    "           font-size:   16px;\n",
    "           line-height: 24px;\n",
    "           color:       #2F4858;\n",
    "           '           \n",
    ">     \n",
    "<p>\n",
    " Dar mis primeros pasos en transformar datos, números y exploraciones en información que resulte útil para una compañía. También tendremos presente la audiencia ya que van hacer nuestros lectores de los reportes    \n",
    "</p>    \n",
    "</div>"
   ]
  },
  {
   "cell_type": "markdown",
   "id": "aeef3a0e",
   "metadata": {},
   "source": [
    "<h3>¿Qué es la visualización de datos?</h3>\n",
    "<div\n",
    "style='\n",
    "           font-family: \"Roboto\";\n",
    "           font-style:  normal;\n",
    "           font-weight: 400;\n",
    "           font-size:   16px;\n",
    "           line-height: 24px;\n",
    "           color:       #2F4858;\n",
    "           '           \n",
    ">          \n",
    "<p>\n",
    "    Es todo aquello que me permite hacer un proceso de input y output.\n",
    "</p>\n",
    "    <ul>\n",
    "        <li>\n",
    "            Input: es la parte donde iniciamos el proceso de la visualización de datos, es donde \n",
    "            podemos meter la información de forma estructurada o no estructurada. \n",
    "        </li>\n",
    "        <li>\n",
    "            Es el producto final nos el va ayudar a definir o a reconocer patrones de una forma visual y \n",
    "            que nos ayude a retener la información.\n",
    "        </li>\n",
    "    </ul>\n",
    "<p>\n",
    "        De esta manera podemos reconocer patrones, haighligh..., incluiso encontrar más información de la \n",
    "        que no estabamos concientes o que era muy díficil de percatarse de otra manera. \n",
    "        \n",
    "        Reto investigar sobre Florence Nightingale.\n",
    "</p>\n",
    "<a href=\"https://historia.nationalgeographic.com.es/a/florence-nightingale-heroina-hospitales_14173\"> Información, yo diría que suficiente sobre el reto\n",
    "</a>\n",
    "</div>"
   ]
  },
  {
   "cell_type": "markdown",
   "id": "b4080deb",
   "metadata": {},
   "source": [
    "<h3> Importancia sobre la visualización de datos </h3>\n",
    "<div\n",
    "style='\n",
    "           font-family: \"Roboto\";\n",
    "           font-style:  normal;\n",
    "           font-weight: 400;\n",
    "           font-size:   16px;\n",
    "           line-height: 24px;\n",
    "           color:       #2F4858;\n",
    "           '                \n",
    ">\n",
    "<p> Carga cognitiva: a mayor carga cognitiva mayor esfuerzo para retener la información, a menor carga cognitiva menor esfuerzo para retener la información.\n",
    "</p>\n",
    "    \n",
    "</div>    "
   ]
  },
  {
   "cell_type": "markdown",
   "id": "fbd8f765",
   "metadata": {},
   "source": []
  }
 ],
 "metadata": {
  "kernelspec": {
   "display_name": "Python 3 (ipykernel)",
   "language": "python",
   "name": "python3"
  },
  "language_info": {
   "codemirror_mode": {
    "name": "ipython",
    "version": 3
   },
   "file_extension": ".py",
   "mimetype": "text/x-python",
   "name": "python",
   "nbconvert_exporter": "python",
   "pygments_lexer": "ipython3",
   "version": "3.10.6"
  }
 },
 "nbformat": 4,
 "nbformat_minor": 5
}
