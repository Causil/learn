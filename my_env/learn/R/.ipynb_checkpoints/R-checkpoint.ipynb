{
 "cells": [
  {
   "cell_type": "markdown",
   "metadata": {},
   "source": [
    "\n",
    "<h1> Cómo instalar R  </h1> \n",
    "\n",
    "Link para descargar Cran\n",
    "\n",
    "<a href='https://www.icesi.edu.co/CRAN'> Repositorio principal </a>\n",
    "\n",
    "Link para descargar la suite de R\n",
    "<a href=\"\">R studio</a>\n",
    "\n",
    "<p>\n",
    "javier@javier-Lenovo-G40-80:~$ sudo apt --fix-broken install r-base-core\n",
    "Leyendo lista de paquetes... Hecho\n",
    "Creando árbol de dependencias... Hecho\n",
    "Leyendo la información de estado... Hecho\n",
    "Tal vez quiera ejecutar «apt --fix-broken install» para corregirlo.\n",
    "Los siguientes paquetes tienen dependencias incumplidas:\n",
    " teams : Depende: libgdk-pixbuf2.0-0 (>= 2.22.0) pero no va a instalarse\n",
    "E: Dependencias incumplidas. Intente «apt --fix-broken install» sin paquetes (o especifique una solución).\n",
    "</p>\n",
    "\n",
    "<a  style=\"color:red\" href=\"https://www.enfaseterminal.com/2019/01/resolver-dependencias-al-instalar-un.html\">  \n",
    "javier@javier-Lenovo-G40-80:~$ sudo apt --fix-broken install r-base-core\n",
    "</a>\n",
    "\n",
    "Se crea un problema de dependencias \n",
    "\n",
    "\n",
    "Packages para crear un dashboar interactivo\n",
    "\n",
    "¿Qué hace cada paquete?\n",
    "\n",
    "Para colores jcolors ggs\n",
    "\n",
    "Para realizar correlaciones corrr corrplot\n",
    "\n",
    "Presentaciones xaringa \n",
    "\n",
    "shiny bslib thematic flexdashboard rmarkdown tidyverse janitor DT plotly jcolors ggs corrr corrplot visdat reticule  shinycssloaders shinyWidgets xaringa rticles \n",
    "\n",
    "R shiny gallery \n",
    "\n",
    "No tildes, no ñ y espacios en blancos\n",
    "\n",
    "rproject-udea-netfly.app"
   ]
  },
  {
   "cell_type": "code",
   "execution_count": 1,
   "metadata": {},
   "outputs": [],
   "source": [
    "import pandas as pd"
   ]
  },
  {
   "cell_type": "code",
   "execution_count": 2,
   "metadata": {},
   "outputs": [],
   "source": [
    "import numpy as pd\n"
   ]
  },
  {
   "cell_type": "code",
   "execution_count": 3,
   "metadata": {},
   "outputs": [
    {
     "ename": "ModuleNotFoundError",
     "evalue": "No module named 'seaborn'",
     "output_type": "error",
     "traceback": [
      "\u001b[0;31m---------------------------------------------------------------------------\u001b[0m",
      "\u001b[0;31mModuleNotFoundError\u001b[0m                       Traceback (most recent call last)",
      "Input \u001b[0;32mIn [3]\u001b[0m, in \u001b[0;36m<cell line: 1>\u001b[0;34m()\u001b[0m\n\u001b[0;32m----> 1\u001b[0m \u001b[38;5;28;01mimport\u001b[39;00m \u001b[38;5;21;01mseaborn\u001b[39;00m \u001b[38;5;28;01mas\u001b[39;00m \u001b[38;5;21;01msb\u001b[39;00m\n",
      "\u001b[0;31mModuleNotFoundError\u001b[0m: No module named 'seaborn'"
     ]
    }
   ],
   "source": []
  },
  {
   "cell_type": "code",
   "execution_count": null,
   "metadata": {},
   "outputs": [],
   "source": []
  }
 ],
 "metadata": {
  "kernelspec": {
   "display_name": "Python 3 (ipykernel)",
   "language": "python",
   "name": "python3"
  },
  "language_info": {
   "codemirror_mode": {
    "name": "ipython",
    "version": 3
   },
   "file_extension": ".py",
   "mimetype": "text/x-python",
   "name": "python",
   "nbconvert_exporter": "python",
   "pygments_lexer": "ipython3",
   "version": "3.10.6"
  }
 },
 "nbformat": 4,
 "nbformat_minor": 2
}
